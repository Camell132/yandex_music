{
 "cells": [
  {
   "cell_type": "markdown",
   "metadata": {
    "id": "E0vqbgi9ay0H"
   },
   "source": [
    "# Яндекс.Музыка"
   ]
  },
  {
   "cell_type": "markdown",
   "metadata": {
    "id": "VUC88oWjTJw2"
   },
   "source": [
    "Сравнение Москвы и Петербурга окружено мифами. Например:\n",
    " * Москва — мегаполис, подчинённый жёсткому ритму рабочей недели;\n",
    " * Петербург — культурная столица, со своими вкусами.\n",
    "\n",
    "На данных Яндекс.Музыки вы сравните поведение пользователей двух столиц.\n",
    "\n",
    "**Цель исследования** — проверьте три гипотезы:\n",
    "1. Активность пользователей зависит от дня недели. Причём в Москве и Петербурге это проявляется по-разному.\n",
    "2. В понедельник утром в Москве преобладают одни жанры, а в Петербурге — другие. Так же и вечером пятницы преобладают разные жанры — в зависимости от города. \n",
    "3. Москва и Петербург предпочитают разные жанры музыки. В Москве чаще слушают поп-музыку, в Петербурге — русский рэп.\n",
    "\n",
    "**Ход исследования**\n",
    "\n",
    "Данные о поведении пользователей вы получите из файла `yandex_music_project.csv`. О качестве данных ничего не известно. Поэтому перед проверкой гипотез понадобится обзор данных. \n",
    "\n",
    "Вы проверите данные на ошибки и оцените их влияние на исследование. Затем, на этапе предобработки вы поищете возможность исправить самые критичные ошибки данных.\n",
    " \n",
    "Таким образом, исследование пройдёт в три этапа:\n",
    " 1. Обзор данных.\n",
    " 2. Предобработка данных.\n",
    " 3. Проверка гипотез.\n",
    "\n"
   ]
  },
  {
   "cell_type": "markdown",
   "metadata": {
    "id": "Ml1hmfXC_Zcs"
   },
   "source": [
    "## Обзор данных\n",
    "\n",
    "Составьте первое представление о данных Яндекс.Музыки.\n",
    "\n",
    "\n"
   ]
  },
  {
   "cell_type": "markdown",
   "metadata": {
    "id": "57eAOGIz_Zcs"
   },
   "source": [
    "Основной инструмент аналитика — `pandas`. Импортируйте эту библиотеку."
   ]
  },
  {
   "cell_type": "code",
   "execution_count": 1,
   "metadata": {
    "id": "AXN7PHPN_Zcs"
   },
   "outputs": [],
   "source": [
    "# импорт библиотеки pandas\n",
    "import pandas as pd"
   ]
  },
  {
   "cell_type": "markdown",
   "metadata": {
    "id": "SG23P8tt_Zcs"
   },
   "source": [
    "Прочитайте файл `yandex_music_project.csv` из папки `/datasets` и сохраните его в переменной `df`:"
   ]
  },
  {
   "cell_type": "code",
   "execution_count": 2,
   "metadata": {
    "id": "fFVu7vqh_Zct"
   },
   "outputs": [],
   "source": [
    "# чтение файла с данными и сохранение в df\n",
    "df = pd.read_csv('/datasets/yandex_music_project.csv')"
   ]
  },
  {
   "cell_type": "markdown",
   "metadata": {
    "id": "rDoOMd3uTqnZ"
   },
   "source": [
    "Выведите на экран первые десять строк таблицы:"
   ]
  },
  {
   "cell_type": "code",
   "execution_count": 3,
   "metadata": {
    "id": "oWTVX3gW_Zct"
   },
   "outputs": [
    {
     "data": {
      "text/html": [
       "<div>\n",
       "<style scoped>\n",
       "    .dataframe tbody tr th:only-of-type {\n",
       "        vertical-align: middle;\n",
       "    }\n",
       "\n",
       "    .dataframe tbody tr th {\n",
       "        vertical-align: top;\n",
       "    }\n",
       "\n",
       "    .dataframe thead th {\n",
       "        text-align: right;\n",
       "    }\n",
       "</style>\n",
       "<table border=\"1\" class=\"dataframe\">\n",
       "  <thead>\n",
       "    <tr style=\"text-align: right;\">\n",
       "      <th></th>\n",
       "      <th>userID</th>\n",
       "      <th>Track</th>\n",
       "      <th>artist</th>\n",
       "      <th>genre</th>\n",
       "      <th>City</th>\n",
       "      <th>time</th>\n",
       "      <th>Day</th>\n",
       "    </tr>\n",
       "  </thead>\n",
       "  <tbody>\n",
       "    <tr>\n",
       "      <td>0</td>\n",
       "      <td>FFB692EC</td>\n",
       "      <td>Kamigata To Boots</td>\n",
       "      <td>The Mass Missile</td>\n",
       "      <td>rock</td>\n",
       "      <td>Saint-Petersburg</td>\n",
       "      <td>20:28:33</td>\n",
       "      <td>Wednesday</td>\n",
       "    </tr>\n",
       "    <tr>\n",
       "      <td>1</td>\n",
       "      <td>55204538</td>\n",
       "      <td>Delayed Because of Accident</td>\n",
       "      <td>Andreas Rönnberg</td>\n",
       "      <td>rock</td>\n",
       "      <td>Moscow</td>\n",
       "      <td>14:07:09</td>\n",
       "      <td>Friday</td>\n",
       "    </tr>\n",
       "    <tr>\n",
       "      <td>2</td>\n",
       "      <td>20EC38</td>\n",
       "      <td>Funiculì funiculà</td>\n",
       "      <td>Mario Lanza</td>\n",
       "      <td>pop</td>\n",
       "      <td>Saint-Petersburg</td>\n",
       "      <td>20:58:07</td>\n",
       "      <td>Wednesday</td>\n",
       "    </tr>\n",
       "    <tr>\n",
       "      <td>3</td>\n",
       "      <td>A3DD03C9</td>\n",
       "      <td>Dragons in the Sunset</td>\n",
       "      <td>Fire + Ice</td>\n",
       "      <td>folk</td>\n",
       "      <td>Saint-Petersburg</td>\n",
       "      <td>08:37:09</td>\n",
       "      <td>Monday</td>\n",
       "    </tr>\n",
       "    <tr>\n",
       "      <td>4</td>\n",
       "      <td>E2DC1FAE</td>\n",
       "      <td>Soul People</td>\n",
       "      <td>Space Echo</td>\n",
       "      <td>dance</td>\n",
       "      <td>Moscow</td>\n",
       "      <td>08:34:34</td>\n",
       "      <td>Monday</td>\n",
       "    </tr>\n",
       "    <tr>\n",
       "      <td>5</td>\n",
       "      <td>842029A1</td>\n",
       "      <td>Преданная</td>\n",
       "      <td>IMPERVTOR</td>\n",
       "      <td>rusrap</td>\n",
       "      <td>Saint-Petersburg</td>\n",
       "      <td>13:09:41</td>\n",
       "      <td>Friday</td>\n",
       "    </tr>\n",
       "    <tr>\n",
       "      <td>6</td>\n",
       "      <td>4CB90AA5</td>\n",
       "      <td>True</td>\n",
       "      <td>Roman Messer</td>\n",
       "      <td>dance</td>\n",
       "      <td>Moscow</td>\n",
       "      <td>13:00:07</td>\n",
       "      <td>Wednesday</td>\n",
       "    </tr>\n",
       "    <tr>\n",
       "      <td>7</td>\n",
       "      <td>F03E1C1F</td>\n",
       "      <td>Feeling This Way</td>\n",
       "      <td>Polina Griffith</td>\n",
       "      <td>dance</td>\n",
       "      <td>Moscow</td>\n",
       "      <td>20:47:49</td>\n",
       "      <td>Wednesday</td>\n",
       "    </tr>\n",
       "    <tr>\n",
       "      <td>8</td>\n",
       "      <td>8FA1D3BE</td>\n",
       "      <td>И вновь продолжается бой</td>\n",
       "      <td>NaN</td>\n",
       "      <td>ruspop</td>\n",
       "      <td>Moscow</td>\n",
       "      <td>09:17:40</td>\n",
       "      <td>Friday</td>\n",
       "    </tr>\n",
       "    <tr>\n",
       "      <td>9</td>\n",
       "      <td>E772D5C0</td>\n",
       "      <td>Pessimist</td>\n",
       "      <td>NaN</td>\n",
       "      <td>dance</td>\n",
       "      <td>Saint-Petersburg</td>\n",
       "      <td>21:20:49</td>\n",
       "      <td>Wednesday</td>\n",
       "    </tr>\n",
       "  </tbody>\n",
       "</table>\n",
       "</div>"
      ],
      "text/plain": [
       "     userID                        Track            artist   genre  \\\n",
       "0  FFB692EC            Kamigata To Boots  The Mass Missile    rock   \n",
       "1  55204538  Delayed Because of Accident  Andreas Rönnberg    rock   \n",
       "2    20EC38            Funiculì funiculà       Mario Lanza     pop   \n",
       "3  A3DD03C9        Dragons in the Sunset        Fire + Ice    folk   \n",
       "4  E2DC1FAE                  Soul People        Space Echo   dance   \n",
       "5  842029A1                    Преданная         IMPERVTOR  rusrap   \n",
       "6  4CB90AA5                         True      Roman Messer   dance   \n",
       "7  F03E1C1F             Feeling This Way   Polina Griffith   dance   \n",
       "8  8FA1D3BE     И вновь продолжается бой               NaN  ruspop   \n",
       "9  E772D5C0                    Pessimist               NaN   dance   \n",
       "\n",
       "             City        time        Day  \n",
       "0  Saint-Petersburg  20:28:33  Wednesday  \n",
       "1            Moscow  14:07:09     Friday  \n",
       "2  Saint-Petersburg  20:58:07  Wednesday  \n",
       "3  Saint-Petersburg  08:37:09     Monday  \n",
       "4            Moscow  08:34:34     Monday  \n",
       "5  Saint-Petersburg  13:09:41     Friday  \n",
       "6            Moscow  13:00:07  Wednesday  \n",
       "7            Moscow  20:47:49  Wednesday  \n",
       "8            Moscow  09:17:40     Friday  \n",
       "9  Saint-Petersburg  21:20:49  Wednesday  "
      ]
     },
     "metadata": {},
     "output_type": "display_data"
    }
   ],
   "source": [
    "# получение первых 10 строк таблицы df\n",
    "display(df.head(10))"
   ]
  },
  {
   "cell_type": "markdown",
   "metadata": {
    "id": "EO73Kwic_Zct"
   },
   "source": [
    "Одной командой получить общую информацию о таблице:"
   ]
  },
  {
   "cell_type": "code",
   "execution_count": 4,
   "metadata": {
    "id": "DSf2kIb-_Zct"
   },
   "outputs": [
    {
     "name": "stdout",
     "output_type": "stream",
     "text": [
      "<class 'pandas.core.frame.DataFrame'>\n",
      "RangeIndex: 65079 entries, 0 to 65078\n",
      "Data columns (total 7 columns):\n",
      "  userID    65079 non-null object\n",
      "Track       63848 non-null object\n",
      "artist      57876 non-null object\n",
      "genre       63881 non-null object\n",
      "  City      65079 non-null object\n",
      "time        65079 non-null object\n",
      "Day         65079 non-null object\n",
      "dtypes: object(7)\n",
      "memory usage: 3.5+ MB\n"
     ]
    },
    {
     "data": {
      "text/html": [
       "<div>\n",
       "<style scoped>\n",
       "    .dataframe tbody tr th:only-of-type {\n",
       "        vertical-align: middle;\n",
       "    }\n",
       "\n",
       "    .dataframe tbody tr th {\n",
       "        vertical-align: top;\n",
       "    }\n",
       "\n",
       "    .dataframe thead th {\n",
       "        text-align: right;\n",
       "    }\n",
       "</style>\n",
       "<table border=\"1\" class=\"dataframe\">\n",
       "  <thead>\n",
       "    <tr style=\"text-align: right;\">\n",
       "      <th></th>\n",
       "      <th>userID</th>\n",
       "      <th>Track</th>\n",
       "      <th>artist</th>\n",
       "      <th>genre</th>\n",
       "      <th>City</th>\n",
       "      <th>time</th>\n",
       "      <th>Day</th>\n",
       "    </tr>\n",
       "  </thead>\n",
       "  <tbody>\n",
       "    <tr>\n",
       "      <td>count</td>\n",
       "      <td>65079</td>\n",
       "      <td>63848</td>\n",
       "      <td>57876</td>\n",
       "      <td>63881</td>\n",
       "      <td>65079</td>\n",
       "      <td>65079</td>\n",
       "      <td>65079</td>\n",
       "    </tr>\n",
       "    <tr>\n",
       "      <td>unique</td>\n",
       "      <td>41748</td>\n",
       "      <td>47245</td>\n",
       "      <td>43605</td>\n",
       "      <td>289</td>\n",
       "      <td>2</td>\n",
       "      <td>20392</td>\n",
       "      <td>3</td>\n",
       "    </tr>\n",
       "    <tr>\n",
       "      <td>top</td>\n",
       "      <td>A8AE9169</td>\n",
       "      <td>Intro</td>\n",
       "      <td>Sardor Rahimxon</td>\n",
       "      <td>pop</td>\n",
       "      <td>Moscow</td>\n",
       "      <td>08:14:07</td>\n",
       "      <td>Friday</td>\n",
       "    </tr>\n",
       "    <tr>\n",
       "      <td>freq</td>\n",
       "      <td>76</td>\n",
       "      <td>34</td>\n",
       "      <td>6</td>\n",
       "      <td>8850</td>\n",
       "      <td>45360</td>\n",
       "      <td>14</td>\n",
       "      <td>23149</td>\n",
       "    </tr>\n",
       "  </tbody>\n",
       "</table>\n",
       "</div>"
      ],
      "text/plain": [
       "          userID  Track           artist  genre   City        time     Day\n",
       "count      65079  63848            57876  63881    65079     65079   65079\n",
       "unique     41748  47245            43605    289        2     20392       3\n",
       "top     A8AE9169  Intro  Sardor Rahimxon    pop   Moscow  08:14:07  Friday\n",
       "freq          76     34                6   8850    45360        14   23149"
      ]
     },
     "metadata": {},
     "output_type": "display_data"
    }
   ],
   "source": [
    "# получение общей информации о данных в таблице df\n",
    "df.info()\n",
    "display(df.describe())"
   ]
  },
  {
   "cell_type": "markdown",
   "metadata": {
    "id": "TaQ2Iwbr_Zct"
   },
   "source": [
    "Итак, в таблице семь столбцов. Тип данных во всех столбцах — `object`.\n",
    "\n",
    "Согласно документации к данным:\n",
    "* `userID` — идентификатор пользователя;\n",
    "* `Track` — название трека;  \n",
    "* `artist` — имя исполнителя;\n",
    "* `genre` — название жанра;\n",
    "* `City` — город пользователя;\n",
    "* `time` — время начала прослушивания;\n",
    "* `Day` — день недели.\n",
    "\n",
    "В названиях колонок видны три нарушения стиля:\n",
    "1. Строчные буквы сочетаются с прописными.\n",
    "2. Встречаются пробелы.\n",
    "3. Слова в названии написаны не в змеином регистре\n",
    "\n",
    "\n",
    "\n",
    "Количество значений в столбцах различается. Значит, в данных есть пропущенные значения.\n"
   ]
  },
  {
   "cell_type": "markdown",
   "metadata": {
    "id": "MCB6-dXG_Zct"
   },
   "source": [
    "**Выводы**\n",
    "\n",
    "В каждой строке таблицы — данные о прослушанном треке. Часть колонок описывает саму композицию: название, исполнителя и жанр. Остальные данные рассказывают о пользователе: из какого он города, когда он слушал музыку. \n",
    "\n",
    "Предварительно можно утверждать, что, данных достаточно для проверки гипотез. Но встречаются пропуски в данных, а в названиях колонок — расхождения с хорошим стилем.\n",
    "\n",
    "Чтобы двигаться дальше, нужно устранить проблемы в данных."
   ]
  },
  {
   "cell_type": "markdown",
   "metadata": {
    "id": "SjYF6Ub9_Zct"
   },
   "source": [
    "## Предобработка данных\n",
    "Исправьте стиль в заголовках столбцов, исключите пропуски. Затем проверьте данные на дубликаты."
   ]
  },
  {
   "cell_type": "markdown",
   "metadata": {
    "id": "dIaKXr29_Zct"
   },
   "source": [
    "### Стиль заголовков\n",
    "Выведите на экран названия столбцов:"
   ]
  },
  {
   "cell_type": "code",
   "execution_count": 5,
   "metadata": {
    "id": "oKOTdF_Q_Zct"
   },
   "outputs": [
    {
     "data": {
      "text/plain": [
       "Index(['  userID', 'Track', 'artist', 'genre', '  City  ', 'time', 'Day'], dtype='object')"
      ]
     },
     "execution_count": 5,
     "metadata": {},
     "output_type": "execute_result"
    }
   ],
   "source": [
    "# перечень названий столбцов таблицы df\n",
    "df.columns"
   ]
  },
  {
   "cell_type": "markdown",
   "metadata": {
    "id": "zj5534cv_Zct"
   },
   "source": [
    "Приведите названия в соответствие с хорошим стилем:\n",
    "* несколько слов в названии запишите в «змеином_регистре»,\n",
    "* все символы сделайте строчными,\n",
    "* устраните пробелы.\n",
    "\n",
    "Для этого переименуйте колонки так:\n",
    "* `'  userID'` → `'user_id'`;\n",
    "* `'Track'` → `'track'`;\n",
    "* `'  City  '` → `'city'`;\n",
    "* `'Day'` → `'day'`."
   ]
  },
  {
   "cell_type": "code",
   "execution_count": 6,
   "metadata": {
    "id": "ISlFqs5y_Zct"
   },
   "outputs": [],
   "source": [
    "# переименование столбцов\n",
    "df = df.rename(columns={'  userID' : 'user_id', \n",
    "                        'Track' : 'track', \n",
    "                        '  City  ' : 'city', \n",
    "                        'Day' : 'day'})"
   ]
  },
  {
   "cell_type": "markdown",
   "metadata": {
    "id": "1dqbh00J_Zct"
   },
   "source": [
    "Проверьте результат. Для этого ещё раз выведите на экран названия столбцов:"
   ]
  },
  {
   "cell_type": "code",
   "execution_count": 7,
   "metadata": {
    "id": "d4NOAmTW_Zct"
   },
   "outputs": [
    {
     "data": {
      "text/plain": [
       "Index(['user_id', 'track', 'artist', 'genre', 'city', 'time', 'day'], dtype='object')"
      ]
     },
     "execution_count": 7,
     "metadata": {},
     "output_type": "execute_result"
    }
   ],
   "source": [
    "# проверка результатов - перечень названий столбцов\n",
    "df.columns"
   ]
  },
  {
   "cell_type": "markdown",
   "metadata": {
    "id": "5ISfbcfY_Zct"
   },
   "source": [
    "### Пропуски значений\n",
    "Сначала посчитайте, сколько в таблице пропущенных значений. Для этого достаточно двух методов `pandas`:"
   ]
  },
  {
   "cell_type": "code",
   "execution_count": 8,
   "metadata": {
    "id": "RskX29qr_Zct"
   },
   "outputs": [
    {
     "data": {
      "text/plain": [
       "user_id       0\n",
       "track      1231\n",
       "artist     7203\n",
       "genre      1198\n",
       "city          0\n",
       "time          0\n",
       "day           0\n",
       "dtype: int64"
      ]
     },
     "metadata": {},
     "output_type": "display_data"
    }
   ],
   "source": [
    "# подсчёт пропусков\n",
    "display(df.isna().sum())"
   ]
  },
  {
   "cell_type": "markdown",
   "metadata": {
    "id": "qubhgnlO_Zct"
   },
   "source": [
    "Не все пропущенные значения влияют на исследование. Так в `track` и `artist` пропуски не важны для вашей работы. Достаточно заменить их явными обозначениями.\n",
    "\n",
    "Но пропуски в `genre` могут помешать сравнению музыкальных вкусов в Москве и Санкт-Петербурге. На практике было бы правильно установить причину пропусков и восстановить данные. Такой возможности нет в учебном проекте. Придётся:\n",
    "* заполнить и эти пропуски явными обозначениями,\n",
    "* оценить, насколько они повредят расчётам. "
   ]
  },
  {
   "cell_type": "markdown",
   "metadata": {
    "id": "fSv2laPA_Zct"
   },
   "source": [
    "Замените пропущенные значения в столбцах `track`, `artist` и `genre` на строку `'unknown'`."
   ]
  },
  {
   "cell_type": "code",
   "execution_count": 9,
   "metadata": {
    "id": "KplB5qWs_Zct"
   },
   "outputs": [],
   "source": [
    "# перебор названий столбцов в цикле и замена пропущенных значений на 'unknown'\n",
    "columns_to_replace = ['track' , 'artist', 'genre']\n",
    "df[columns_to_replace] = df[columns_to_replace].fillna('unknown')"
   ]
  },
  {
   "cell_type": "markdown",
   "metadata": {
    "id": "Ilsm-MZo_Zct"
   },
   "source": [
    "Убедитесь, что в таблице не осталось пропусков. Для этого ещё раз посчитайте пропущенные значения."
   ]
  },
  {
   "cell_type": "code",
   "execution_count": 10,
   "metadata": {
    "id": "Tq4nYRX4_Zct"
   },
   "outputs": [
    {
     "data": {
      "text/plain": [
       "user_id    0\n",
       "track      0\n",
       "artist     0\n",
       "genre      0\n",
       "city       0\n",
       "time       0\n",
       "day        0\n",
       "dtype: int64"
      ]
     },
     "metadata": {},
     "output_type": "display_data"
    }
   ],
   "source": [
    "# подсчёт пропусков\n",
    "display(df.isna().sum())"
   ]
  },
  {
   "cell_type": "markdown",
   "metadata": {
    "id": "BWKRtBJ3_Zct"
   },
   "source": [
    "### Дубликаты\n",
    "Посчитайте явные дубликаты в таблице одной командой:"
   ]
  },
  {
   "cell_type": "code",
   "execution_count": 11,
   "metadata": {
    "id": "36eES_S0_Zct"
   },
   "outputs": [
    {
     "data": {
      "text/plain": [
       "3826"
      ]
     },
     "execution_count": 11,
     "metadata": {},
     "output_type": "execute_result"
    }
   ],
   "source": [
    "# подсчёт явных дубликатов\n",
    "df.duplicated().sum()"
   ]
  },
  {
   "cell_type": "markdown",
   "metadata": {
    "id": "Ot25h6XR_Zct"
   },
   "source": [
    "Вызовите специальный метод `pandas`, чтобы удалить явные дубликаты:"
   ]
  },
  {
   "cell_type": "code",
   "execution_count": 12,
   "metadata": {
    "id": "exFHq6tt_Zct"
   },
   "outputs": [],
   "source": [
    "# удаление явных дубликатов (с удалением старых индексов и формированием новых)\n",
    "df = df.drop_duplicates().reset_index(drop=True) "
   ]
  },
  {
   "cell_type": "markdown",
   "metadata": {
    "id": "Im2YwBEG_Zct"
   },
   "source": [
    "Ещё раз посчитайте явные дубликаты в таблице — убедитесь, что полностью от них избавились:"
   ]
  },
  {
   "cell_type": "code",
   "execution_count": 13,
   "metadata": {
    "id": "-8PuNWQ0_Zct"
   },
   "outputs": [
    {
     "data": {
      "text/plain": [
       "0"
      ]
     },
     "execution_count": 13,
     "metadata": {},
     "output_type": "execute_result"
    }
   ],
   "source": [
    "# проверка на отсутствие дубликатов\n",
    "df.duplicated().sum()"
   ]
  },
  {
   "cell_type": "markdown",
   "metadata": {
    "id": "QlFBsxAr_Zct"
   },
   "source": [
    "Теперь избавьтесь от неявных дубликатов в колонке `genre`. Например, название одного и того же жанра может быть записано немного по-разному. Такие ошибки тоже повлияют на результат исследования."
   ]
  },
  {
   "cell_type": "markdown",
   "metadata": {
    "id": "eSjWwsOh_Zct"
   },
   "source": [
    "Выведите на экран список уникальных названий жанров, отсортированный в алфавитном порядке. Для этого:\n",
    "* извлеките нужный столбец датафрейма, \n",
    "* примените к нему метод сортировки,\n",
    "* для отсортированного столбца вызовите метод, который вернёт уникальные значения из столбца."
   ]
  },
  {
   "cell_type": "code",
   "execution_count": 14,
   "metadata": {
    "id": "JIUcqzZN_Zct"
   },
   "outputs": [
    {
     "data": {
      "text/plain": [
       "array(['acid', 'acoustic', 'action', 'adult', 'africa', 'afrikaans',\n",
       "       'alternative', 'alternativepunk', 'ambient', 'americana',\n",
       "       'animated', 'anime', 'arabesk', 'arabic', 'arena',\n",
       "       'argentinetango', 'art', 'audiobook', 'author', 'avantgarde',\n",
       "       'axé', 'baile', 'balkan', 'beats', 'bigroom', 'black', 'bluegrass',\n",
       "       'blues', 'bollywood', 'bossa', 'brazilian', 'breakbeat', 'breaks',\n",
       "       'broadway', 'cantautori', 'cantopop', 'canzone', 'caribbean',\n",
       "       'caucasian', 'celtic', 'chamber', 'chanson', 'children', 'chill',\n",
       "       'chinese', 'choral', 'christian', 'christmas', 'classical',\n",
       "       'classicmetal', 'club', 'colombian', 'comedy', 'conjazz',\n",
       "       'contemporary', 'country', 'cuban', 'dance', 'dancehall',\n",
       "       'dancepop', 'dark', 'death', 'deep', 'deutschrock', 'deutschspr',\n",
       "       'dirty', 'disco', 'dnb', 'documentary', 'downbeat', 'downtempo',\n",
       "       'drum', 'dub', 'dubstep', 'eastern', 'easy', 'electronic',\n",
       "       'electropop', 'emo', 'entehno', 'epicmetal', 'estrada', 'ethnic',\n",
       "       'eurofolk', 'european', 'experimental', 'extrememetal', 'fado',\n",
       "       'fairytail', 'film', 'fitness', 'flamenco', 'folk', 'folklore',\n",
       "       'folkmetal', 'folkrock', 'folktronica', 'forró', 'frankreich',\n",
       "       'französisch', 'french', 'funk', 'future', 'gangsta', 'garage',\n",
       "       'german', 'ghazal', 'gitarre', 'glitch', 'gospel', 'gothic',\n",
       "       'grime', 'grunge', 'gypsy', 'handsup', \"hard'n'heavy\", 'hardcore',\n",
       "       'hardstyle', 'hardtechno', 'hip', 'hip-hop', 'hiphop',\n",
       "       'historisch', 'holiday', 'hop', 'horror', 'house', 'hymn', 'idm',\n",
       "       'independent', 'indian', 'indie', 'indipop', 'industrial',\n",
       "       'inspirational', 'instrumental', 'international', 'irish', 'jam',\n",
       "       'japanese', 'jazz', 'jewish', 'jpop', 'jungle', 'k-pop',\n",
       "       'karadeniz', 'karaoke', 'kayokyoku', 'korean', 'laiko', 'latin',\n",
       "       'latino', 'leftfield', 'local', 'lounge', 'loungeelectronic',\n",
       "       'lovers', 'malaysian', 'mandopop', 'marschmusik', 'meditative',\n",
       "       'mediterranean', 'melodic', 'metal', 'metalcore', 'mexican',\n",
       "       'middle', 'minimal', 'miscellaneous', 'modern', 'mood', 'mpb',\n",
       "       'muslim', 'native', 'neoklassik', 'neue', 'new', 'newage',\n",
       "       'newwave', 'nu', 'nujazz', 'numetal', 'oceania', 'old', 'opera',\n",
       "       'orchestral', 'other', 'piano', 'podcasts', 'pop', 'popdance',\n",
       "       'popelectronic', 'popeurodance', 'poprussian', 'post',\n",
       "       'posthardcore', 'postrock', 'power', 'progmetal', 'progressive',\n",
       "       'psychedelic', 'punjabi', 'punk', 'quebecois', 'ragga', 'ram',\n",
       "       'rancheras', 'rap', 'rave', 'reggae', 'reggaeton', 'regional',\n",
       "       'relax', 'religious', 'retro', 'rhythm', 'rnb', 'rnr', 'rock',\n",
       "       'rockabilly', 'rockalternative', 'rockindie', 'rockother',\n",
       "       'romance', 'roots', 'ruspop', 'rusrap', 'rusrock', 'russian',\n",
       "       'salsa', 'samba', 'scenic', 'schlager', 'self', 'sertanejo',\n",
       "       'shanson', 'shoegazing', 'showtunes', 'singer', 'ska', 'skarock',\n",
       "       'slow', 'smooth', 'soft', 'soul', 'soulful', 'sound', 'soundtrack',\n",
       "       'southern', 'specialty', 'speech', 'spiritual', 'sport',\n",
       "       'stonerrock', 'surf', 'swing', 'synthpop', 'synthrock',\n",
       "       'sängerportrait', 'tango', 'tanzorchester', 'taraftar', 'tatar',\n",
       "       'tech', 'techno', 'teen', 'thrash', 'top', 'traditional',\n",
       "       'tradjazz', 'trance', 'tribal', 'trip', 'triphop', 'tropical',\n",
       "       'türk', 'türkçe', 'ukrrock', 'unknown', 'urban', 'uzbek',\n",
       "       'variété', 'vi', 'videogame', 'vocal', 'western', 'world',\n",
       "       'worldbeat', 'ïîï', 'электроника'], dtype=object)"
      ]
     },
     "execution_count": 14,
     "metadata": {},
     "output_type": "execute_result"
    }
   ],
   "source": [
    "# Просмотр уникальных названий жанров\n",
    "df['genre'].sort_values().unique()"
   ]
  },
  {
   "cell_type": "markdown",
   "metadata": {
    "id": "qej-Qmuo_Zct"
   },
   "source": [
    "Просмотрите список и найдите неявные дубликаты названия `hiphop`. Это могут быть названия с ошибками или альтернативные названия того же жанра.\n",
    "\n",
    "Вы увидите следующие неявные дубликаты:\n",
    "* *hip*,\n",
    "* *hop*,\n",
    "* *hip-hop*.\n",
    "\n",
    "Чтобы очистить от них таблицу, напишите функцию `replace_wrong_genres()` с двумя параметрами: \n",
    "* `wrong_genres` — список дубликатов,\n",
    "* `correct_genre` — строка с правильным значением.\n",
    "\n",
    "Функция должна исправить колонку `genre` в таблице `df`: заменить каждое значение из списка `wrong_genres` на значение из `correct_genre`."
   ]
  },
  {
   "cell_type": "code",
   "execution_count": 15,
   "metadata": {
    "id": "ErNDkmns_Zct"
   },
   "outputs": [],
   "source": [
    "# Функция для замены неявных дубликатов\n",
    "def replace_wrong_genres(wrong_genres, correct_genre):\n",
    "    for wrong_genre in wrong_genres:\n",
    "        df['genre'] = df['genre'].replace(wrong_genre, correct_genre)"
   ]
  },
  {
   "cell_type": "markdown",
   "metadata": {
    "id": "aDoBJxbA_Zct"
   },
   "source": [
    "Вызовите `replace_wrong_genres()` и передайте ей такие аргументы, чтобы она устранила неявные дубликаты: вместо `hip`, `hop` и `hip-hop` в таблице должно быть значение `hiphop`:"
   ]
  },
  {
   "cell_type": "code",
   "execution_count": 16,
   "metadata": {
    "id": "YN5i2hpmSo09"
   },
   "outputs": [],
   "source": [
    "# Устранение неявных дубликатов\n",
    "incorrect_names = ['hip', 'hop', 'hip-hop']\n",
    "correct_name = 'hiphop'\n",
    "replace_wrong_genres(incorrect_names, correct_name)"
   ]
  },
  {
   "cell_type": "markdown",
   "metadata": {
    "id": "zQKF16_RG15m"
   },
   "source": [
    "Проверьте, что заменили неправильные названия:\n",
    "\n",
    "*   hip\n",
    "*   hop\n",
    "*   hip-hop\n",
    "\n",
    "Выведите отсортированный список уникальных значений столбца `genre`:"
   ]
  },
  {
   "cell_type": "code",
   "execution_count": 17,
   "metadata": {
    "id": "wvixALnFG15m"
   },
   "outputs": [
    {
     "name": "stdout",
     "output_type": "stream",
     "text": [
      "['acid' 'acoustic' 'action' 'adult' 'africa' 'afrikaans' 'alternative'\n",
      " 'alternativepunk' 'ambient' 'americana' 'animated' 'anime' 'arabesk'\n",
      " 'arabic' 'arena' 'argentinetango' 'art' 'audiobook' 'author' 'avantgarde'\n",
      " 'axé' 'baile' 'balkan' 'beats' 'bigroom' 'black' 'bluegrass' 'blues'\n",
      " 'bollywood' 'bossa' 'brazilian' 'breakbeat' 'breaks' 'broadway'\n",
      " 'cantautori' 'cantopop' 'canzone' 'caribbean' 'caucasian' 'celtic'\n",
      " 'chamber' 'chanson' 'children' 'chill' 'chinese' 'choral' 'christian'\n",
      " 'christmas' 'classical' 'classicmetal' 'club' 'colombian' 'comedy'\n",
      " 'conjazz' 'contemporary' 'country' 'cuban' 'dance' 'dancehall' 'dancepop'\n",
      " 'dark' 'death' 'deep' 'deutschrock' 'deutschspr' 'dirty' 'disco' 'dnb'\n",
      " 'documentary' 'downbeat' 'downtempo' 'drum' 'dub' 'dubstep' 'eastern'\n",
      " 'easy' 'electronic' 'electropop' 'emo' 'entehno' 'epicmetal' 'estrada'\n",
      " 'ethnic' 'eurofolk' 'european' 'experimental' 'extrememetal' 'fado'\n",
      " 'fairytail' 'film' 'fitness' 'flamenco' 'folk' 'folklore' 'folkmetal'\n",
      " 'folkrock' 'folktronica' 'forró' 'frankreich' 'französisch' 'french'\n",
      " 'funk' 'future' 'gangsta' 'garage' 'german' 'ghazal' 'gitarre' 'glitch'\n",
      " 'gospel' 'gothic' 'grime' 'grunge' 'gypsy' 'handsup' \"hard'n'heavy\"\n",
      " 'hardcore' 'hardstyle' 'hardtechno' 'hiphop' 'historisch' 'holiday'\n",
      " 'horror' 'house' 'hymn' 'idm' 'independent' 'indian' 'indie' 'indipop'\n",
      " 'industrial' 'inspirational' 'instrumental' 'international' 'irish' 'jam'\n",
      " 'japanese' 'jazz' 'jewish' 'jpop' 'jungle' 'k-pop' 'karadeniz' 'karaoke'\n",
      " 'kayokyoku' 'korean' 'laiko' 'latin' 'latino' 'leftfield' 'local'\n",
      " 'lounge' 'loungeelectronic' 'lovers' 'malaysian' 'mandopop' 'marschmusik'\n",
      " 'meditative' 'mediterranean' 'melodic' 'metal' 'metalcore' 'mexican'\n",
      " 'middle' 'minimal' 'miscellaneous' 'modern' 'mood' 'mpb' 'muslim'\n",
      " 'native' 'neoklassik' 'neue' 'new' 'newage' 'newwave' 'nu' 'nujazz'\n",
      " 'numetal' 'oceania' 'old' 'opera' 'orchestral' 'other' 'piano' 'podcasts'\n",
      " 'pop' 'popdance' 'popelectronic' 'popeurodance' 'poprussian' 'post'\n",
      " 'posthardcore' 'postrock' 'power' 'progmetal' 'progressive' 'psychedelic'\n",
      " 'punjabi' 'punk' 'quebecois' 'ragga' 'ram' 'rancheras' 'rap' 'rave'\n",
      " 'reggae' 'reggaeton' 'regional' 'relax' 'religious' 'retro' 'rhythm'\n",
      " 'rnb' 'rnr' 'rock' 'rockabilly' 'rockalternative' 'rockindie' 'rockother'\n",
      " 'romance' 'roots' 'ruspop' 'rusrap' 'rusrock' 'russian' 'salsa' 'samba'\n",
      " 'scenic' 'schlager' 'self' 'sertanejo' 'shanson' 'shoegazing' 'showtunes'\n",
      " 'singer' 'ska' 'skarock' 'slow' 'smooth' 'soft' 'soul' 'soulful' 'sound'\n",
      " 'soundtrack' 'southern' 'specialty' 'speech' 'spiritual' 'sport'\n",
      " 'stonerrock' 'surf' 'swing' 'synthpop' 'synthrock' 'sängerportrait'\n",
      " 'tango' 'tanzorchester' 'taraftar' 'tatar' 'tech' 'techno' 'teen'\n",
      " 'thrash' 'top' 'traditional' 'tradjazz' 'trance' 'tribal' 'trip'\n",
      " 'triphop' 'tropical' 'türk' 'türkçe' 'ukrrock' 'unknown' 'urban' 'uzbek'\n",
      " 'variété' 'vi' 'videogame' 'vocal' 'western' 'world' 'worldbeat' 'ïîï'\n",
      " 'электроника']\n"
     ]
    }
   ],
   "source": [
    "# Проверка на неявные дубликаты\n",
    "print(df['genre'].sort_values().unique())"
   ]
  },
  {
   "cell_type": "markdown",
   "metadata": {
    "id": "jz6a9-7HQUDd"
   },
   "source": [
    "**Выводы**\n",
    "\n",
    "Предобработка обнаружила три проблемы в данных:\n",
    "\n",
    "- нарушения в стиле заголовков,\n",
    "- пропущенные значения,\n",
    "- дубликаты — явные и неявные.\n",
    "\n",
    "Вы исправили заголовки, чтобы упростить работу с таблицей. Без дубликатов исследование станет более точным.\n",
    "\n",
    "Пропущенные значения вы заменили на `'unknown'`. Ещё предстоит увидеть, не повредят ли исследованию пропуски в колонке `genre`.\n",
    "\n",
    "Теперь можно перейти к проверке гипотез. "
   ]
  },
  {
   "cell_type": "markdown",
   "metadata": {
    "id": "WttZHXH0SqKk"
   },
   "source": [
    "## Проверка гипотез"
   ]
  },
  {
   "cell_type": "markdown",
   "metadata": {
    "id": "Im936VVi_Zcu"
   },
   "source": [
    "### Сравнение поведения пользователей двух столиц"
   ]
  },
  {
   "cell_type": "markdown",
   "metadata": {
    "id": "nwt_MuaL_Zcu"
   },
   "source": [
    "Первая гипотеза утверждает, что пользователи по-разному слушают музыку в Москве и Санкт-Петербурге. Проверьте это предположение по данным о трёх днях недели — понедельнике, среде и пятнице. Для этого:\n",
    "\n",
    "* Разделите пользователей Москвы и Санкт-Петербурга\n",
    "* Сравните, сколько треков послушала каждая группа пользователей в понедельник, среду и пятницу.\n"
   ]
  },
  {
   "cell_type": "markdown",
   "metadata": {
    "id": "8Dw_YMmT_Zcu"
   },
   "source": [
    "Для тренировки сначала выполните каждый из расчётов по отдельности. \n",
    "\n",
    "Оцените активность пользователей в каждом городе. Сгруппируйте данные по городу и посчитайте прослушивания в каждой группе.\n",
    "\n"
   ]
  },
  {
   "cell_type": "code",
   "execution_count": 18,
   "metadata": {
    "id": "0_Qs96oh_Zcu"
   },
   "outputs": [
    {
     "data": {
      "text/html": [
       "<div>\n",
       "<style scoped>\n",
       "    .dataframe tbody tr th:only-of-type {\n",
       "        vertical-align: middle;\n",
       "    }\n",
       "\n",
       "    .dataframe tbody tr th {\n",
       "        vertical-align: top;\n",
       "    }\n",
       "\n",
       "    .dataframe thead th {\n",
       "        text-align: right;\n",
       "    }\n",
       "</style>\n",
       "<table border=\"1\" class=\"dataframe\">\n",
       "  <thead>\n",
       "    <tr style=\"text-align: right;\">\n",
       "      <th></th>\n",
       "      <th>user_id</th>\n",
       "    </tr>\n",
       "    <tr>\n",
       "      <th>city</th>\n",
       "      <th></th>\n",
       "    </tr>\n",
       "  </thead>\n",
       "  <tbody>\n",
       "    <tr>\n",
       "      <td>Moscow</td>\n",
       "      <td>42741</td>\n",
       "    </tr>\n",
       "    <tr>\n",
       "      <td>Saint-Petersburg</td>\n",
       "      <td>18512</td>\n",
       "    </tr>\n",
       "  </tbody>\n",
       "</table>\n",
       "</div>"
      ],
      "text/plain": [
       "                  user_id\n",
       "city                     \n",
       "Moscow              42741\n",
       "Saint-Petersburg    18512"
      ]
     },
     "metadata": {},
     "output_type": "display_data"
    }
   ],
   "source": [
    "# Подсчёт прослушиваний в каждом городе\n",
    "display(df.groupby('city')['user_id'].count().to_frame())"
   ]
  },
  {
   "cell_type": "markdown",
   "metadata": {
    "id": "dzli3w8o_Zcu"
   },
   "source": [
    "В Москве прослушиваний больше, чем в Петербурге. Из этого не следует, что московские пользователи чаще слушают музыку. Просто самих пользователей в Москве больше.\n",
    "\n",
    "Теперь сгруппируйте данные по дню недели и подсчитайте прослушивания в понедельник, среду и пятницу. Учтите, что в данных есть информация только о прослушиваниях за эти дни.\n"
   ]
  },
  {
   "cell_type": "code",
   "execution_count": 19,
   "metadata": {
    "id": "uZMKjiJz_Zcu"
   },
   "outputs": [
    {
     "data": {
      "text/html": [
       "<div>\n",
       "<style scoped>\n",
       "    .dataframe tbody tr th:only-of-type {\n",
       "        vertical-align: middle;\n",
       "    }\n",
       "\n",
       "    .dataframe tbody tr th {\n",
       "        vertical-align: top;\n",
       "    }\n",
       "\n",
       "    .dataframe thead th {\n",
       "        text-align: right;\n",
       "    }\n",
       "</style>\n",
       "<table border=\"1\" class=\"dataframe\">\n",
       "  <thead>\n",
       "    <tr style=\"text-align: right;\">\n",
       "      <th></th>\n",
       "      <th>user_id</th>\n",
       "    </tr>\n",
       "    <tr>\n",
       "      <th>day</th>\n",
       "      <th></th>\n",
       "    </tr>\n",
       "  </thead>\n",
       "  <tbody>\n",
       "    <tr>\n",
       "      <td>Friday</td>\n",
       "      <td>21840</td>\n",
       "    </tr>\n",
       "    <tr>\n",
       "      <td>Monday</td>\n",
       "      <td>21354</td>\n",
       "    </tr>\n",
       "    <tr>\n",
       "      <td>Wednesday</td>\n",
       "      <td>18059</td>\n",
       "    </tr>\n",
       "  </tbody>\n",
       "</table>\n",
       "</div>"
      ],
      "text/plain": [
       "           user_id\n",
       "day               \n",
       "Friday       21840\n",
       "Monday       21354\n",
       "Wednesday    18059"
      ]
     },
     "metadata": {},
     "output_type": "display_data"
    }
   ],
   "source": [
    "# Подсчёт прослушиваний в каждый из трёх дней в обоих городах\n",
    "display(df.groupby('day')['user_id'].count().to_frame())"
   ]
  },
  {
   "cell_type": "markdown",
   "metadata": {
    "id": "cC2tNrlL_Zcu"
   },
   "source": [
    "В среднем пользователи из двух городов менее активны по средам. Но картина может измениться, если рассмотреть каждый город в отдельности."
   ]
  },
  {
   "cell_type": "markdown",
   "metadata": {
    "id": "POzs8bGa_Zcu"
   },
   "source": [
    "Вы видели, как работает группировка по городу и по дням недели. Теперь напишите функцию, которая объединит два эти расчёта.\n",
    "\n",
    "Создайте функцию `number_tracks()`, которая посчитает прослушивания для заданного дня и города. Ей понадобятся два параметра:\n",
    "* день недели,\n",
    "* название города.\n",
    "\n",
    "В функции сохраните в переменную строки исходной таблицы, у которых значение:\n",
    "  * в колонке `day` равно параметру `day`,\n",
    "  * в колонке `city` равно параметру `city`.\n",
    "\n",
    "Для этого примените последовательную фильтрацию с логической индексацией.\n",
    "\n",
    "Затем посчитайте значения в столбце `user_id` получившейся таблицы. Результат сохраните в новую переменную. Верните эту переменную из функции."
   ]
  },
  {
   "cell_type": "code",
   "execution_count": 20,
   "metadata": {
    "id": "Nz3GdQB1_Zcu"
   },
   "outputs": [],
   "source": [
    "# <создание функции number_tracks()>\n",
    "\n",
    "def number_tracks(day, city):\n",
    "    '''Функция возвращает число - значение track_list_count.\n",
    "    Функция для подсчёта прослушиваний для конкретного города и дня.\n",
    "    С помощью последовательной фильтрации с логической индексацией она \n",
    "    сначала получит из исходной таблицы строки с нужным днём,\n",
    "    затем из результата отфильтрует строки с нужным городом,\n",
    "    методом count() посчитает количество значений в колонке user_id. \n",
    "    Это количество функция вернёт в качестве результата'''\n",
    "    track_list = df[df['day'] == day]\n",
    "    track_list = track_list[track_list['city'] == city]\n",
    "    track_list_count = track_list['user_id'].count()\n",
    "    return track_list_count"
   ]
  },
  {
   "cell_type": "markdown",
   "metadata": {
    "id": "ytf7xFrFJQ2r"
   },
   "source": [
    "Вызовите `number_tracks()` шесть раз, меняя значение параметров — так, чтобы получить данные для каждого города в каждый из трёх дней."
   ]
  },
  {
   "cell_type": "code",
   "execution_count": 21,
   "metadata": {
    "id": "rJcRATNQ_Zcu"
   },
   "outputs": [
    {
     "name": "stdout",
     "output_type": "stream",
     "text": [
      "Количество прослушиваний в Москве по понедельникам: 15740\n"
     ]
    }
   ],
   "source": [
    "# количество прослушиваний в Москве по понедельникам\n",
    "city = ['Moscow', 'Saint-Petersburg']\n",
    "day_of_week = ['Monday', 'Wednesday', 'Friday']\n",
    "# занесем сразу результаты в список для дальнейшего представления результатов\n",
    "moscow_group_by_day_of_week = []\n",
    "moscow_monday = number_tracks(day_of_week[0], city[0])\n",
    "moscow_group_by_day_of_week.append(moscow_monday)\n",
    "print('Количество прослушиваний в Москве по понедельникам:', moscow_monday)"
   ]
  },
  {
   "cell_type": "code",
   "execution_count": 22,
   "metadata": {
    "id": "hq_ncZ5T_Zcu"
   },
   "outputs": [
    {
     "name": "stdout",
     "output_type": "stream",
     "text": [
      "Количество прослушиваний в Санкт-Петербурге по понедельникам: 5614\n"
     ]
    }
   ],
   "source": [
    "# количество прослушиваний в Санкт-Петербурге по понедельникам\n",
    "st_peterburg_group_by_day_of_week = []\n",
    "st_peterburg_monday = number_tracks(day_of_week[0], city[1])\n",
    "st_peterburg_group_by_day_of_week.append(st_peterburg_monday)\n",
    "print('Количество прослушиваний в Санкт-Петербурге по понедельникам:', st_peterburg_monday)"
   ]
  },
  {
   "cell_type": "code",
   "execution_count": 23,
   "metadata": {
    "id": "_NTy2VPU_Zcu"
   },
   "outputs": [
    {
     "name": "stdout",
     "output_type": "stream",
     "text": [
      "Количество прослушиваний в Москве по средам: 11056\n"
     ]
    }
   ],
   "source": [
    "# количество прослушиваний в Москве по средам\n",
    "moscow_wednesday = number_tracks(day_of_week[1], city[0])\n",
    "moscow_group_by_day_of_week.append(moscow_wednesday)\n",
    "print('Количество прослушиваний в Москве по средам:', moscow_wednesday)"
   ]
  },
  {
   "cell_type": "code",
   "execution_count": 24,
   "metadata": {
    "id": "j2y3TAwo_Zcu"
   },
   "outputs": [
    {
     "name": "stdout",
     "output_type": "stream",
     "text": [
      "Количество прослушиваний в Санкт-Петербурге по средам: 7003\n"
     ]
    }
   ],
   "source": [
    "# количество прослушиваний в Санкт-Петербурге по средам\n",
    "st_peterburg_wednesday = number_tracks(day_of_week[1], city[1])\n",
    "st_peterburg_group_by_day_of_week.append(st_peterburg_wednesday)\n",
    "print('Количество прослушиваний в Санкт-Петербурге по средам:', st_peterburg_wednesday)"
   ]
  },
  {
   "cell_type": "code",
   "execution_count": 25,
   "metadata": {
    "id": "vYDw5u_K_Zcu"
   },
   "outputs": [
    {
     "name": "stdout",
     "output_type": "stream",
     "text": [
      "Количество прослушиваний в Москве по пятницам: 15945\n"
     ]
    }
   ],
   "source": [
    "# количество прослушиваний в Москве по пятницам\n",
    "moscow_friday = number_tracks(day_of_week[2], city[0])\n",
    "moscow_group_by_day_of_week.append(moscow_friday)\n",
    "print('Количество прослушиваний в Москве по пятницам:', moscow_friday)"
   ]
  },
  {
   "cell_type": "code",
   "execution_count": 26,
   "metadata": {
    "id": "8_yzFtW3_Zcu"
   },
   "outputs": [
    {
     "name": "stdout",
     "output_type": "stream",
     "text": [
      "Количество прослушиваний в Санкт-Петербурге по пятницам: 5895\n"
     ]
    }
   ],
   "source": [
    "# количество прослушиваний в Санкт-Петербурге по пятницам\n",
    "st_peterburg_friday = number_tracks(day_of_week[2], city[1])\n",
    "st_peterburg_group_by_day_of_week.append(st_peterburg_friday)\n",
    "print('Количество прослушиваний в Санкт-Петербурге по пятницам:', st_peterburg_friday)"
   ]
  },
  {
   "cell_type": "code",
   "execution_count": 27,
   "metadata": {},
   "outputs": [
    {
     "name": "stdout",
     "output_type": "stream",
     "text": [
      "Количество прослушиваний в Moscow по Monday равно 15740\n",
      "Количество прослушиваний в Moscow по Wednesday равно 11056\n",
      "Количество прослушиваний в Moscow по Friday равно 15945\n",
      "Количество прослушиваний в Saint-Petersburg по Monday равно 5614\n",
      "Количество прослушиваний в Saint-Petersburg по Wednesday равно 7003\n",
      "Количество прослушиваний в Saint-Petersburg по Friday равно 5895\n"
     ]
    }
   ],
   "source": [
    "for weekday, city in zip(['Monday', 'Wednesday', 'Friday']*2, sorted(['Moscow', 'Saint-Petersburg']*3)):\n",
    "    print(f'Количество прослушиваний в {city} по {weekday} равно {number_tracks(weekday, city)}')"
   ]
  },
  {
   "cell_type": "markdown",
   "metadata": {
    "id": "7QXffbO-_Zcu"
   },
   "source": [
    "Создайте c помощью конструктора `pd.DataFrame` таблицу, где\n",
    "* названия колонок — `['city', 'monday', 'wednesday', 'friday']`;\n",
    "* данные — результаты, которые вы получили с помощью `number_tracks`."
   ]
  },
  {
   "cell_type": "code",
   "execution_count": 28,
   "metadata": {
    "id": "APAcLpOr_Zcu"
   },
   "outputs": [
    {
     "data": {
      "text/html": [
       "<div>\n",
       "<style scoped>\n",
       "    .dataframe tbody tr th:only-of-type {\n",
       "        vertical-align: middle;\n",
       "    }\n",
       "\n",
       "    .dataframe tbody tr th {\n",
       "        vertical-align: top;\n",
       "    }\n",
       "\n",
       "    .dataframe thead th {\n",
       "        text-align: right;\n",
       "    }\n",
       "</style>\n",
       "<table border=\"1\" class=\"dataframe\">\n",
       "  <thead>\n",
       "    <tr style=\"text-align: right;\">\n",
       "      <th></th>\n",
       "      <th>city</th>\n",
       "      <th>monday</th>\n",
       "      <th>wednesday</th>\n",
       "      <th>friday</th>\n",
       "    </tr>\n",
       "  </thead>\n",
       "  <tbody>\n",
       "    <tr>\n",
       "      <td>0</td>\n",
       "      <td>S</td>\n",
       "      <td>15740</td>\n",
       "      <td>11056</td>\n",
       "      <td>15945</td>\n",
       "    </tr>\n",
       "    <tr>\n",
       "      <td>1</td>\n",
       "      <td>a</td>\n",
       "      <td>5614</td>\n",
       "      <td>7003</td>\n",
       "      <td>5895</td>\n",
       "    </tr>\n",
       "  </tbody>\n",
       "</table>\n",
       "</div>"
      ],
      "text/plain": [
       "  city  monday  wednesday  friday\n",
       "0    S   15740      11056   15945\n",
       "1    a    5614       7003    5895"
      ]
     },
     "metadata": {},
     "output_type": "display_data"
    }
   ],
   "source": [
    "# Таблица с результатами\n",
    "data_for_table = []\n",
    "data_for_table.append([city[0]] + moscow_group_by_day_of_week)\n",
    "data_for_table.append([city[1]] + st_peterburg_group_by_day_of_week)\n",
    "results_for_first_hypothesis = pd.DataFrame(data=data_for_table, columns=['city', 'monday', 'wednesday', 'friday'])\n",
    "display(results_for_first_hypothesis)"
   ]
  },
  {
   "cell_type": "markdown",
   "metadata": {
    "id": "-EgPIHYu_Zcu"
   },
   "source": [
    "**Выводы**\n",
    "\n",
    "Данные показывают разницу поведения пользователей:\n",
    "\n",
    "- В Москве пик прослушиваний приходится на понедельник и пятницу, а в среду заметен спад.\n",
    "- В Петербурге, наоборот, больше слушают музыку по средам. Активность в понедельник и пятницу здесь почти в равной мере уступает среде.\n",
    "\n",
    "Значит, данные говорят в пользу первой гипотезы."
   ]
  },
  {
   "cell_type": "markdown",
   "metadata": {
    "id": "atZAxtq4_Zcu"
   },
   "source": [
    "### Музыка в начале и в конце недели"
   ]
  },
  {
   "cell_type": "markdown",
   "metadata": {
    "id": "eXrQqXFH_Zcu"
   },
   "source": [
    "Согласно второй гипотезе, утром в понедельник в Москве преобладают одни жанры, а в Петербурге — другие. Так же и вечером пятницы преобладают разные жанры — в зависимости от города."
   ]
  },
  {
   "cell_type": "markdown",
   "metadata": {
    "id": "S8UcW6Hw_Zcu"
   },
   "source": [
    "Сохраните таблицы с данными в две переменные:\n",
    "* по Москве — в `moscow_general`;\n",
    "* по Санкт-Петербургу — в `spb_general`."
   ]
  },
  {
   "cell_type": "code",
   "execution_count": 29,
   "metadata": {
    "id": "qeaFfM_P_Zcu"
   },
   "outputs": [],
   "source": [
    "# получение таблицы moscow_general из тех строк таблицы df, \n",
    "# для которых значение в столбце 'city' равно 'Moscow'\n",
    "moscow_general = df[df['city'] == 'Moscow']"
   ]
  },
  {
   "cell_type": "code",
   "execution_count": 30,
   "metadata": {
    "id": "ORaVRKto_Zcu"
   },
   "outputs": [],
   "source": [
    "# получение таблицы spb_general из тех строк таблицы df,\n",
    "# для которых значение в столбце 'city' равно 'Saint-Petersburg'\n",
    "spb_general = df[df['city'] == 'Saint-Petersburg']"
   ]
  },
  {
   "cell_type": "markdown",
   "metadata": {
    "id": "MEJV-CX2_Zcu"
   },
   "source": [
    "Создайте функцию `genre_weekday()` с четырьмя параметрами:\n",
    "* таблица (датафрейм) с данными,\n",
    "* день недели,\n",
    "* начальная временная метка в формате 'hh:mm', \n",
    "* последняя временная метка в формате 'hh:mm'.\n",
    "\n",
    "Функция должна вернуть информацию о топ-10 жанров тех треков, которые прослушивали в указанный день, в промежутке между двумя отметками времени."
   ]
  },
  {
   "cell_type": "code",
   "execution_count": 31,
   "metadata": {
    "id": "laJT9BYl_Zcu"
   },
   "outputs": [],
   "source": [
    "# Объявление функции genre_weekday() с параметрами table, day, time1, time2,\n",
    "\n",
    "def genre_weekday(table, day, time1, time2):\n",
    "    '''Функция возвращает информацию о самых популярных жанрах в указанный день в\n",
    "    заданное время:\n",
    "    1) в переменную genre_df сохраняются те строки переданного датафрейма table, для\n",
    "     которых одновременно:\n",
    "     - значение в столбце day равно значению аргумента day\n",
    "     - значение в столбце time больше значения аргумента time1\n",
    "     - значение в столбце time меньше значения аргумента time2\n",
    "     Используйте последовательную фильтрацию с помощью логической индексации.\n",
    "    2) сгруппировать датафрейм genre_df по столбцу genre, взять один из его\n",
    "     столбцов и посчитать методом count() количество записей для каждого из\n",
    "     присутствующих жанров, получившийся Series записать в переменную\n",
    "     genre_df_count\n",
    "    3) отсортировать genre_df_count по убыванию встречаемости и сохранить\n",
    "     в переменную genre_df_sorted\n",
    "    4) вернуть Series из 10 первых значений genre_df_sorted, это будут топ-10\n",
    "     популярных жанров (в указанный день, в заданное время)'''\n",
    "    genre_df = table[table['day'] == day]\n",
    "    genre_df = genre_df[genre_df['time'] > time1]\n",
    "    genre_df = genre_df[genre_df['time'] < time2]\n",
    "    genre_df_count = genre_df.groupby('genre')['genre'].count()\n",
    "    genre_df_sorted = genre_df_count.sort_values(ascending = False)\n",
    "    return genre_df_sorted.head(10)"
   ]
  },
  {
   "cell_type": "markdown",
   "metadata": {
    "id": "la2s2_PF_Zcu"
   },
   "source": [
    "Cравните результаты функции `genre_weekday()` для Москвы и Санкт-Петербурга в понедельник утром (с 7:00 до 11:00) и в пятницу вечером (с 17:00 до 23:00):"
   ]
  },
  {
   "cell_type": "code",
   "execution_count": 32,
   "metadata": {
    "id": "yz7itPUQ_Zcu"
   },
   "outputs": [
    {
     "data": {
      "text/html": [
       "<div>\n",
       "<style scoped>\n",
       "    .dataframe tbody tr th:only-of-type {\n",
       "        vertical-align: middle;\n",
       "    }\n",
       "\n",
       "    .dataframe tbody tr th {\n",
       "        vertical-align: top;\n",
       "    }\n",
       "\n",
       "    .dataframe thead th {\n",
       "        text-align: right;\n",
       "    }\n",
       "</style>\n",
       "<table border=\"1\" class=\"dataframe\">\n",
       "  <thead>\n",
       "    <tr style=\"text-align: right;\">\n",
       "      <th></th>\n",
       "      <th>genre</th>\n",
       "    </tr>\n",
       "    <tr>\n",
       "      <th>genre</th>\n",
       "      <th></th>\n",
       "    </tr>\n",
       "  </thead>\n",
       "  <tbody>\n",
       "    <tr>\n",
       "      <td>pop</td>\n",
       "      <td>781</td>\n",
       "    </tr>\n",
       "    <tr>\n",
       "      <td>dance</td>\n",
       "      <td>549</td>\n",
       "    </tr>\n",
       "    <tr>\n",
       "      <td>electronic</td>\n",
       "      <td>480</td>\n",
       "    </tr>\n",
       "    <tr>\n",
       "      <td>rock</td>\n",
       "      <td>474</td>\n",
       "    </tr>\n",
       "    <tr>\n",
       "      <td>hiphop</td>\n",
       "      <td>286</td>\n",
       "    </tr>\n",
       "    <tr>\n",
       "      <td>ruspop</td>\n",
       "      <td>186</td>\n",
       "    </tr>\n",
       "    <tr>\n",
       "      <td>world</td>\n",
       "      <td>181</td>\n",
       "    </tr>\n",
       "    <tr>\n",
       "      <td>rusrap</td>\n",
       "      <td>175</td>\n",
       "    </tr>\n",
       "    <tr>\n",
       "      <td>alternative</td>\n",
       "      <td>164</td>\n",
       "    </tr>\n",
       "    <tr>\n",
       "      <td>unknown</td>\n",
       "      <td>161</td>\n",
       "    </tr>\n",
       "  </tbody>\n",
       "</table>\n",
       "</div>"
      ],
      "text/plain": [
       "             genre\n",
       "genre             \n",
       "pop            781\n",
       "dance          549\n",
       "electronic     480\n",
       "rock           474\n",
       "hiphop         286\n",
       "ruspop         186\n",
       "world          181\n",
       "rusrap         175\n",
       "alternative    164\n",
       "unknown        161"
      ]
     },
     "metadata": {},
     "output_type": "display_data"
    }
   ],
   "source": [
    "# вызов функции для утра понедельника в Москве (вместо df — таблица moscow_general)\n",
    "# объекты, хранящие время, являются строками и сравниваются как строки\n",
    "# пример вызова: genre_weekday(moscow_general, 'Monday', '07:00', '11:00')\n",
    "display(genre_weekday(moscow_general, 'Monday', '07:00', '11:00').to_frame())"
   ]
  },
  {
   "cell_type": "code",
   "execution_count": 33,
   "metadata": {
    "id": "kwUcHPdy_Zcu"
   },
   "outputs": [
    {
     "data": {
      "text/html": [
       "<div>\n",
       "<style scoped>\n",
       "    .dataframe tbody tr th:only-of-type {\n",
       "        vertical-align: middle;\n",
       "    }\n",
       "\n",
       "    .dataframe tbody tr th {\n",
       "        vertical-align: top;\n",
       "    }\n",
       "\n",
       "    .dataframe thead th {\n",
       "        text-align: right;\n",
       "    }\n",
       "</style>\n",
       "<table border=\"1\" class=\"dataframe\">\n",
       "  <thead>\n",
       "    <tr style=\"text-align: right;\">\n",
       "      <th></th>\n",
       "      <th>genre</th>\n",
       "    </tr>\n",
       "    <tr>\n",
       "      <th>genre</th>\n",
       "      <th></th>\n",
       "    </tr>\n",
       "  </thead>\n",
       "  <tbody>\n",
       "    <tr>\n",
       "      <td>pop</td>\n",
       "      <td>218</td>\n",
       "    </tr>\n",
       "    <tr>\n",
       "      <td>dance</td>\n",
       "      <td>182</td>\n",
       "    </tr>\n",
       "    <tr>\n",
       "      <td>rock</td>\n",
       "      <td>162</td>\n",
       "    </tr>\n",
       "    <tr>\n",
       "      <td>electronic</td>\n",
       "      <td>147</td>\n",
       "    </tr>\n",
       "    <tr>\n",
       "      <td>hiphop</td>\n",
       "      <td>80</td>\n",
       "    </tr>\n",
       "    <tr>\n",
       "      <td>ruspop</td>\n",
       "      <td>64</td>\n",
       "    </tr>\n",
       "    <tr>\n",
       "      <td>alternative</td>\n",
       "      <td>58</td>\n",
       "    </tr>\n",
       "    <tr>\n",
       "      <td>rusrap</td>\n",
       "      <td>55</td>\n",
       "    </tr>\n",
       "    <tr>\n",
       "      <td>jazz</td>\n",
       "      <td>44</td>\n",
       "    </tr>\n",
       "    <tr>\n",
       "      <td>classical</td>\n",
       "      <td>40</td>\n",
       "    </tr>\n",
       "  </tbody>\n",
       "</table>\n",
       "</div>"
      ],
      "text/plain": [
       "             genre\n",
       "genre             \n",
       "pop            218\n",
       "dance          182\n",
       "rock           162\n",
       "electronic     147\n",
       "hiphop          80\n",
       "ruspop          64\n",
       "alternative     58\n",
       "rusrap          55\n",
       "jazz            44\n",
       "classical       40"
      ]
     },
     "metadata": {},
     "output_type": "display_data"
    }
   ],
   "source": [
    "# вызов функции для утра понедельника в Петербурге (вместо df — таблица spb_general)\n",
    "display(genre_weekday(spb_general, 'Monday', '07:00', '11:00').to_frame())"
   ]
  },
  {
   "cell_type": "code",
   "execution_count": 34,
   "metadata": {
    "id": "EzXVRE1o_Zcu"
   },
   "outputs": [
    {
     "data": {
      "text/html": [
       "<div>\n",
       "<style scoped>\n",
       "    .dataframe tbody tr th:only-of-type {\n",
       "        vertical-align: middle;\n",
       "    }\n",
       "\n",
       "    .dataframe tbody tr th {\n",
       "        vertical-align: top;\n",
       "    }\n",
       "\n",
       "    .dataframe thead th {\n",
       "        text-align: right;\n",
       "    }\n",
       "</style>\n",
       "<table border=\"1\" class=\"dataframe\">\n",
       "  <thead>\n",
       "    <tr style=\"text-align: right;\">\n",
       "      <th></th>\n",
       "      <th>genre</th>\n",
       "    </tr>\n",
       "    <tr>\n",
       "      <th>genre</th>\n",
       "      <th></th>\n",
       "    </tr>\n",
       "  </thead>\n",
       "  <tbody>\n",
       "    <tr>\n",
       "      <td>pop</td>\n",
       "      <td>713</td>\n",
       "    </tr>\n",
       "    <tr>\n",
       "      <td>rock</td>\n",
       "      <td>517</td>\n",
       "    </tr>\n",
       "    <tr>\n",
       "      <td>dance</td>\n",
       "      <td>495</td>\n",
       "    </tr>\n",
       "    <tr>\n",
       "      <td>electronic</td>\n",
       "      <td>482</td>\n",
       "    </tr>\n",
       "    <tr>\n",
       "      <td>hiphop</td>\n",
       "      <td>273</td>\n",
       "    </tr>\n",
       "    <tr>\n",
       "      <td>world</td>\n",
       "      <td>208</td>\n",
       "    </tr>\n",
       "    <tr>\n",
       "      <td>ruspop</td>\n",
       "      <td>170</td>\n",
       "    </tr>\n",
       "    <tr>\n",
       "      <td>alternative</td>\n",
       "      <td>163</td>\n",
       "    </tr>\n",
       "    <tr>\n",
       "      <td>classical</td>\n",
       "      <td>163</td>\n",
       "    </tr>\n",
       "    <tr>\n",
       "      <td>rusrap</td>\n",
       "      <td>142</td>\n",
       "    </tr>\n",
       "  </tbody>\n",
       "</table>\n",
       "</div>"
      ],
      "text/plain": [
       "             genre\n",
       "genre             \n",
       "pop            713\n",
       "rock           517\n",
       "dance          495\n",
       "electronic     482\n",
       "hiphop         273\n",
       "world          208\n",
       "ruspop         170\n",
       "alternative    163\n",
       "classical      163\n",
       "rusrap         142"
      ]
     },
     "metadata": {},
     "output_type": "display_data"
    }
   ],
   "source": [
    "# вызов функции для вечера пятницы в Москве\n",
    "display(genre_weekday(moscow_general, 'Friday', '17:00', '23:00').to_frame())"
   ]
  },
  {
   "cell_type": "code",
   "execution_count": 35,
   "metadata": {
    "id": "JZaEKu5v_Zcu"
   },
   "outputs": [
    {
     "data": {
      "text/html": [
       "<div>\n",
       "<style scoped>\n",
       "    .dataframe tbody tr th:only-of-type {\n",
       "        vertical-align: middle;\n",
       "    }\n",
       "\n",
       "    .dataframe tbody tr th {\n",
       "        vertical-align: top;\n",
       "    }\n",
       "\n",
       "    .dataframe thead th {\n",
       "        text-align: right;\n",
       "    }\n",
       "</style>\n",
       "<table border=\"1\" class=\"dataframe\">\n",
       "  <thead>\n",
       "    <tr style=\"text-align: right;\">\n",
       "      <th></th>\n",
       "      <th>genre</th>\n",
       "    </tr>\n",
       "    <tr>\n",
       "      <th>genre</th>\n",
       "      <th></th>\n",
       "    </tr>\n",
       "  </thead>\n",
       "  <tbody>\n",
       "    <tr>\n",
       "      <td>pop</td>\n",
       "      <td>256</td>\n",
       "    </tr>\n",
       "    <tr>\n",
       "      <td>rock</td>\n",
       "      <td>216</td>\n",
       "    </tr>\n",
       "    <tr>\n",
       "      <td>electronic</td>\n",
       "      <td>216</td>\n",
       "    </tr>\n",
       "    <tr>\n",
       "      <td>dance</td>\n",
       "      <td>210</td>\n",
       "    </tr>\n",
       "    <tr>\n",
       "      <td>hiphop</td>\n",
       "      <td>97</td>\n",
       "    </tr>\n",
       "    <tr>\n",
       "      <td>alternative</td>\n",
       "      <td>63</td>\n",
       "    </tr>\n",
       "    <tr>\n",
       "      <td>jazz</td>\n",
       "      <td>61</td>\n",
       "    </tr>\n",
       "    <tr>\n",
       "      <td>classical</td>\n",
       "      <td>60</td>\n",
       "    </tr>\n",
       "    <tr>\n",
       "      <td>rusrap</td>\n",
       "      <td>59</td>\n",
       "    </tr>\n",
       "    <tr>\n",
       "      <td>world</td>\n",
       "      <td>54</td>\n",
       "    </tr>\n",
       "  </tbody>\n",
       "</table>\n",
       "</div>"
      ],
      "text/plain": [
       "             genre\n",
       "genre             \n",
       "pop            256\n",
       "rock           216\n",
       "electronic     216\n",
       "dance          210\n",
       "hiphop          97\n",
       "alternative     63\n",
       "jazz            61\n",
       "classical       60\n",
       "rusrap          59\n",
       "world           54"
      ]
     },
     "metadata": {},
     "output_type": "display_data"
    }
   ],
   "source": [
    "# вызов функции для вечера пятницы в Петербурге\n",
    "display(genre_weekday(spb_general, 'Friday', '17:00', '23:00').to_frame())"
   ]
  },
  {
   "cell_type": "markdown",
   "metadata": {
    "id": "wrCe4MNX_Zcu"
   },
   "source": [
    "**Выводы**\n",
    "\n",
    "Если сравнить топ-10 жанров в понедельник утром, можно сделать такие выводы:\n",
    "\n",
    "1. В Москве и Петербурге слушают похожую музыку. Единственное отличие — в московский рейтинг вошёл жанр “world”, а в петербургский — джаз и классика.\n",
    "\n",
    "2. В Москве пропущенных значений оказалось так много, что значение `'unknown'` заняло десятое место среди самых популярных жанров. Значит, пропущенные значения занимают существенную долю в данных и угрожают достоверности исследования.\n",
    "\n",
    "Вечер пятницы не меняет эту картину. Некоторые жанры поднимаются немного выше, другие спускаются, но в целом топ-10 остаётся тем же самым.\n",
    "\n",
    "Таким образом, вторая гипотеза подтвердилась лишь частично:\n",
    "* Пользователи слушают похожую музыку в начале недели и в конце.\n",
    "* Разница между Москвой и Петербургом не слишком выражена. В Москве чаще слушают музыку жанра \"world\", в Петербурге — джаз и классику.\n",
    "\n",
    "Однако пропуски в данных ставят под сомнение этот результат. В Москве их так много, что рейтинг топ-10 мог бы выглядеть иначе, если бы не утерянные  данные о жанрах."
   ]
  },
  {
   "cell_type": "markdown",
   "metadata": {
    "id": "JolODAqr_Zcu"
   },
   "source": [
    "### Жанровые предпочтения в Москве и Петербурге\n",
    "\n",
    "Гипотеза: Петербург — столица рэпа, музыку этого жанра там слушают чаще, чем в Москве.  А Москва — город контрастов, в котором, тем не менее, преобладает поп-музыка."
   ]
  },
  {
   "cell_type": "markdown",
   "metadata": {
    "id": "DlegSvaT_Zcu"
   },
   "source": [
    "Сгруппируйте таблицу `moscow_general` по жанру и посчитайте прослушивания треков каждого жанра методом `count()`. Затем отсортируйте результат в порядке убывания и сохраните его в таблице `moscow_genres`."
   ]
  },
  {
   "cell_type": "code",
   "execution_count": 36,
   "metadata": {
    "id": "r19lIPke_Zcu"
   },
   "outputs": [],
   "source": [
    "# одной строкой: группировка таблицы moscow_general по столбцу 'genre', \n",
    "# подсчёт числа значений 'genre' в этой группировке методом count(), \n",
    "# сортировка получившегося Series в порядке убывания и сохранение в moscow_genres\n",
    "moscow_genres = moscow_general.groupby('genre')['genre'].count().sort_values(ascending = False)"
   ]
  },
  {
   "cell_type": "markdown",
   "metadata": {
    "id": "6kMuomxTiIr8"
   },
   "source": [
    "Выведите на экран первые десять строк `moscow_genres`:"
   ]
  },
  {
   "cell_type": "code",
   "execution_count": 37,
   "metadata": {
    "id": "WhCSooF8_Zcv"
   },
   "outputs": [
    {
     "data": {
      "text/html": [
       "<div>\n",
       "<style scoped>\n",
       "    .dataframe tbody tr th:only-of-type {\n",
       "        vertical-align: middle;\n",
       "    }\n",
       "\n",
       "    .dataframe tbody tr th {\n",
       "        vertical-align: top;\n",
       "    }\n",
       "\n",
       "    .dataframe thead th {\n",
       "        text-align: right;\n",
       "    }\n",
       "</style>\n",
       "<table border=\"1\" class=\"dataframe\">\n",
       "  <thead>\n",
       "    <tr style=\"text-align: right;\">\n",
       "      <th></th>\n",
       "      <th>genre</th>\n",
       "    </tr>\n",
       "    <tr>\n",
       "      <th>genre</th>\n",
       "      <th></th>\n",
       "    </tr>\n",
       "  </thead>\n",
       "  <tbody>\n",
       "    <tr>\n",
       "      <td>pop</td>\n",
       "      <td>5892</td>\n",
       "    </tr>\n",
       "    <tr>\n",
       "      <td>dance</td>\n",
       "      <td>4435</td>\n",
       "    </tr>\n",
       "    <tr>\n",
       "      <td>rock</td>\n",
       "      <td>3965</td>\n",
       "    </tr>\n",
       "    <tr>\n",
       "      <td>electronic</td>\n",
       "      <td>3786</td>\n",
       "    </tr>\n",
       "    <tr>\n",
       "      <td>hiphop</td>\n",
       "      <td>2096</td>\n",
       "    </tr>\n",
       "    <tr>\n",
       "      <td>classical</td>\n",
       "      <td>1616</td>\n",
       "    </tr>\n",
       "    <tr>\n",
       "      <td>world</td>\n",
       "      <td>1432</td>\n",
       "    </tr>\n",
       "    <tr>\n",
       "      <td>alternative</td>\n",
       "      <td>1379</td>\n",
       "    </tr>\n",
       "    <tr>\n",
       "      <td>ruspop</td>\n",
       "      <td>1372</td>\n",
       "    </tr>\n",
       "    <tr>\n",
       "      <td>rusrap</td>\n",
       "      <td>1161</td>\n",
       "    </tr>\n",
       "  </tbody>\n",
       "</table>\n",
       "</div>"
      ],
      "text/plain": [
       "             genre\n",
       "genre             \n",
       "pop           5892\n",
       "dance         4435\n",
       "rock          3965\n",
       "electronic    3786\n",
       "hiphop        2096\n",
       "classical     1616\n",
       "world         1432\n",
       "alternative   1379\n",
       "ruspop        1372\n",
       "rusrap        1161"
      ]
     },
     "metadata": {},
     "output_type": "display_data"
    }
   ],
   "source": [
    "# просмотр первых 10 строк moscow_genres\n",
    "display(moscow_genres.head(10).to_frame())"
   ]
  },
  {
   "cell_type": "markdown",
   "metadata": {
    "id": "cnPG2vnN_Zcv"
   },
   "source": [
    "Теперь повторите то же и для Петербурга.\n",
    "\n",
    "Сгруппируйте таблицу `spb_general` по жанру. Посчитайте прослушивания треков каждого жанра. Результат отсортируйте в порядке убывания и сохраните в таблице `spb_genres`:\n"
   ]
  },
  {
   "cell_type": "code",
   "execution_count": 38,
   "metadata": {
    "id": "gluLIpE7_Zcv"
   },
   "outputs": [],
   "source": [
    "# одной строкой: группировка таблицы spb_general по столбцу 'genre', \n",
    "# подсчёт числа значений 'genre' в этой группировке методом count(), \n",
    "# сортировка получившегося Series в порядке убывания и сохранение в spb_genres\n",
    "spb_genres = spb_general.groupby('genre')['genre'].count().sort_values(ascending = False)"
   ]
  },
  {
   "cell_type": "markdown",
   "metadata": {
    "id": "5Doha_ODgyQ8"
   },
   "source": [
    "Выведите на экран первые десять строк `spb_genres`:"
   ]
  },
  {
   "cell_type": "code",
   "execution_count": 39,
   "metadata": {
    "id": "uaGJHjVU_Zcv"
   },
   "outputs": [
    {
     "data": {
      "text/html": [
       "<div>\n",
       "<style scoped>\n",
       "    .dataframe tbody tr th:only-of-type {\n",
       "        vertical-align: middle;\n",
       "    }\n",
       "\n",
       "    .dataframe tbody tr th {\n",
       "        vertical-align: top;\n",
       "    }\n",
       "\n",
       "    .dataframe thead th {\n",
       "        text-align: right;\n",
       "    }\n",
       "</style>\n",
       "<table border=\"1\" class=\"dataframe\">\n",
       "  <thead>\n",
       "    <tr style=\"text-align: right;\">\n",
       "      <th></th>\n",
       "      <th>genre</th>\n",
       "    </tr>\n",
       "    <tr>\n",
       "      <th>genre</th>\n",
       "      <th></th>\n",
       "    </tr>\n",
       "  </thead>\n",
       "  <tbody>\n",
       "    <tr>\n",
       "      <td>pop</td>\n",
       "      <td>2431</td>\n",
       "    </tr>\n",
       "    <tr>\n",
       "      <td>dance</td>\n",
       "      <td>1932</td>\n",
       "    </tr>\n",
       "    <tr>\n",
       "      <td>rock</td>\n",
       "      <td>1879</td>\n",
       "    </tr>\n",
       "    <tr>\n",
       "      <td>electronic</td>\n",
       "      <td>1736</td>\n",
       "    </tr>\n",
       "    <tr>\n",
       "      <td>hiphop</td>\n",
       "      <td>960</td>\n",
       "    </tr>\n",
       "    <tr>\n",
       "      <td>alternative</td>\n",
       "      <td>649</td>\n",
       "    </tr>\n",
       "    <tr>\n",
       "      <td>classical</td>\n",
       "      <td>646</td>\n",
       "    </tr>\n",
       "    <tr>\n",
       "      <td>rusrap</td>\n",
       "      <td>564</td>\n",
       "    </tr>\n",
       "    <tr>\n",
       "      <td>ruspop</td>\n",
       "      <td>538</td>\n",
       "    </tr>\n",
       "    <tr>\n",
       "      <td>world</td>\n",
       "      <td>515</td>\n",
       "    </tr>\n",
       "  </tbody>\n",
       "</table>\n",
       "</div>"
      ],
      "text/plain": [
       "             genre\n",
       "genre             \n",
       "pop           2431\n",
       "dance         1932\n",
       "rock          1879\n",
       "electronic    1736\n",
       "hiphop         960\n",
       "alternative    649\n",
       "classical      646\n",
       "rusrap         564\n",
       "ruspop         538\n",
       "world          515"
      ]
     },
     "metadata": {},
     "output_type": "display_data"
    }
   ],
   "source": [
    "# просмотр первых 10 строк spb_genres\n",
    "display(spb_genres.head(10).to_frame())"
   ]
  },
  {
   "cell_type": "markdown",
   "metadata": {
    "id": "RY51YJYu_Zcv"
   },
   "source": [
    "**Выводы**"
   ]
  },
  {
   "cell_type": "markdown",
   "metadata": {
    "id": "nVhnJEm__Zcv"
   },
   "source": [
    "Гипотеза частично подтвердилась:\n",
    "* Поп-музыка — самый популярный жанр в Москве, как и предполагала гипотеза. Более того, в топ-10 жанров встречается близкий жанр — русская популярная музыка.\n",
    "* Вопреки ожиданиям, рэп одинаково популярен в Москве и Петербурге.\n",
    "* Топ-10 жанровых предпочтений в двух городах практически совпадает.\n"
   ]
  },
  {
   "cell_type": "markdown",
   "metadata": {
    "id": "ykKQ0N65_Zcv"
   },
   "source": [
    "## Итоги исследования"
   ]
  },
  {
   "cell_type": "markdown",
   "metadata": {
    "id": "tjUwbHb3_Zcv"
   },
   "source": [
    "Вы проверили три гипотезы и установили:\n",
    "\n",
    "1. День недели по-разному влияет на активность пользователей в Москве и Петербурге. \n",
    "\n",
    "Первая гипотеза полностью подтвердилась.\n",
    "\n",
    "2. Музыкальные предпочтения не сильно меняются в течение недели — будь то Москва или Петербург. Небольшие различия заметны в начале недели, по понедельникам:\n",
    "* в Москве слушают музыку жанра “world”,\n",
    "* в Петербурге — джаз и классику.\n",
    "\n",
    "Таким образом, вторая гипотеза подтвердилась лишь отчасти. Этот результат мог оказаться иным, если бы не пропуски в данных.\n",
    "\n",
    "3. Во вкусах пользователей Москвы и Петербурга больше общего чем различий. Вопреки ожиданиям, предпочтения жанров в Петербурге напоминают московские.\n",
    "\n",
    "Третья гипотеза не подтвердилась. Если различия в предпочтениях и существуют, на основной массе пользователей они незаметны. И в Москве и в Санкт-Петербурге чаще всего слушают поп-музыку.\n",
    "\n",
    "**На практике исследования содержат проверки статистических гипотез.**\n",
    "Из данных одного сервиса не всегда можно сделать вывод о всех жителях города.\n",
    "Проверки статистических гипотез покажут, насколько они достоверны, исходя из имеющихся данных. \n",
    "С методами проверок гипотез вы ещё познакомитесь в следующих темах."
   ]
  }
 ],
 "metadata": {
  "ExecuteTimeLog": [
   {
    "duration": 725,
    "start_time": "2021-09-18T18:16:22.820Z"
   },
   {
    "duration": 995,
    "start_time": "2021-09-18T18:16:34.377Z"
   },
   {
    "duration": 281,
    "start_time": "2021-09-18T18:16:37.378Z"
   },
   {
    "duration": 26,
    "start_time": "2021-09-18T18:17:00.914Z"
   },
   {
    "duration": 16,
    "start_time": "2021-09-18T18:17:07.372Z"
   },
   {
    "duration": 92,
    "start_time": "2021-09-18T18:17:55.717Z"
   },
   {
    "duration": 9,
    "start_time": "2021-09-18T18:24:42.156Z"
   },
   {
    "duration": 5,
    "start_time": "2021-09-18T18:24:52.568Z"
   },
   {
    "duration": 59,
    "start_time": "2021-09-18T18:28:59.436Z"
   },
   {
    "duration": 5,
    "start_time": "2021-09-18T18:29:20.868Z"
   },
   {
    "duration": 72,
    "start_time": "2021-09-18T18:30:21.103Z"
   },
   {
    "duration": 115,
    "start_time": "2021-09-18T18:32:42.936Z"
   },
   {
    "duration": 73,
    "start_time": "2021-09-18T18:32:52.829Z"
   },
   {
    "duration": 69,
    "start_time": "2021-09-18T18:33:04.921Z"
   },
   {
    "duration": 73,
    "start_time": "2021-09-18T18:33:19.563Z"
   },
   {
    "duration": 40,
    "start_time": "2021-09-18T18:33:39.928Z"
   },
   {
    "duration": 73,
    "start_time": "2021-09-18T18:33:42.214Z"
   },
   {
    "duration": 50,
    "start_time": "2021-09-18T18:34:02.333Z"
   },
   {
    "duration": 72,
    "start_time": "2021-09-18T18:34:04.013Z"
   },
   {
    "duration": 88,
    "start_time": "2021-09-18T18:40:07.920Z"
   },
   {
    "duration": 444,
    "start_time": "2021-09-18T18:40:20.141Z"
   },
   {
    "duration": 903,
    "start_time": "2021-09-18T18:40:36.949Z"
   },
   {
    "duration": 232,
    "start_time": "2021-09-18T18:40:37.856Z"
   },
   {
    "duration": 27,
    "start_time": "2021-09-18T18:40:38.091Z"
   },
   {
    "duration": 75,
    "start_time": "2021-09-18T18:40:38.120Z"
   },
   {
    "duration": 23,
    "start_time": "2021-09-18T18:40:38.205Z"
   },
   {
    "duration": 92,
    "start_time": "2021-09-18T18:40:38.231Z"
   },
   {
    "duration": 25,
    "start_time": "2021-09-18T18:40:38.325Z"
   },
   {
    "duration": 75,
    "start_time": "2021-09-18T18:40:38.353Z"
   },
   {
    "duration": 53,
    "start_time": "2021-09-18T18:40:38.433Z"
   },
   {
    "duration": 63,
    "start_time": "2021-09-18T18:40:38.490Z"
   },
   {
    "duration": 117,
    "start_time": "2021-09-18T18:40:38.557Z"
   },
   {
    "duration": 128,
    "start_time": "2021-09-18T18:40:38.678Z"
   },
   {
    "duration": 87,
    "start_time": "2021-09-18T18:45:03.130Z"
   },
   {
    "duration": 62,
    "start_time": "2021-09-18T18:45:08.800Z"
   },
   {
    "duration": 65,
    "start_time": "2021-09-18T18:47:45.640Z"
   },
   {
    "duration": 62,
    "start_time": "2021-09-18T18:47:55.178Z"
   },
   {
    "duration": 363,
    "start_time": "2021-09-18T18:53:41.706Z"
   },
   {
    "duration": 4,
    "start_time": "2021-09-18T18:53:48.118Z"
   },
   {
    "duration": 15,
    "start_time": "2021-09-18T18:53:50.051Z"
   },
   {
    "duration": 63,
    "start_time": "2021-09-18T18:54:34.807Z"
   },
   {
    "duration": 742,
    "start_time": "2021-09-19T20:19:10.716Z"
   },
   {
    "duration": 186,
    "start_time": "2021-09-19T20:19:11.461Z"
   },
   {
    "duration": 32,
    "start_time": "2021-09-19T20:19:11.650Z"
   },
   {
    "duration": 33,
    "start_time": "2021-09-19T20:19:11.684Z"
   },
   {
    "duration": 4,
    "start_time": "2021-09-19T20:19:11.719Z"
   },
   {
    "duration": 64,
    "start_time": "2021-09-19T20:19:11.726Z"
   },
   {
    "duration": 12,
    "start_time": "2021-09-19T20:19:11.793Z"
   },
   {
    "duration": 32,
    "start_time": "2021-09-19T20:19:11.808Z"
   },
   {
    "duration": 42,
    "start_time": "2021-09-19T20:19:11.844Z"
   },
   {
    "duration": 31,
    "start_time": "2021-09-19T20:19:11.889Z"
   },
   {
    "duration": 115,
    "start_time": "2021-09-19T20:19:11.923Z"
   },
   {
    "duration": 126,
    "start_time": "2021-09-19T20:19:12.041Z"
   },
   {
    "duration": 81,
    "start_time": "2021-09-19T20:19:12.169Z"
   },
   {
    "duration": 58,
    "start_time": "2021-09-19T20:19:12.267Z"
   },
   {
    "duration": 9,
    "start_time": "2021-09-19T20:19:12.327Z"
   },
   {
    "duration": 32,
    "start_time": "2021-09-19T20:19:12.338Z"
   },
   {
    "duration": 71,
    "start_time": "2021-09-19T20:19:12.373Z"
   },
   {
    "duration": 86,
    "start_time": "2021-09-19T20:19:18.353Z"
   },
   {
    "duration": 37,
    "start_time": "2021-09-19T20:19:53.668Z"
   },
   {
    "duration": 28,
    "start_time": "2021-09-19T20:27:12.533Z"
   },
   {
    "duration": 56,
    "start_time": "2021-09-19T20:27:15.172Z"
   },
   {
    "duration": 25,
    "start_time": "2021-09-19T20:27:51.065Z"
   },
   {
    "duration": 12,
    "start_time": "2021-09-19T20:28:58.443Z"
   },
   {
    "duration": 19,
    "start_time": "2021-09-19T20:28:59.967Z"
   },
   {
    "duration": 17,
    "start_time": "2021-09-19T20:31:17.181Z"
   },
   {
    "duration": 14,
    "start_time": "2021-09-19T20:53:55.522Z"
   },
   {
    "duration": 16,
    "start_time": "2021-09-19T20:54:03.800Z"
   },
   {
    "duration": 502,
    "start_time": "2021-09-19T21:02:30.165Z"
   },
   {
    "duration": 137,
    "start_time": "2021-09-19T21:02:38.314Z"
   },
   {
    "duration": 5,
    "start_time": "2021-09-19T21:03:00.702Z"
   },
   {
    "duration": 28,
    "start_time": "2021-09-19T21:03:02.934Z"
   },
   {
    "duration": 23,
    "start_time": "2021-09-19T21:03:10.386Z"
   },
   {
    "duration": 20,
    "start_time": "2021-09-19T21:04:50.652Z"
   },
   {
    "duration": 23,
    "start_time": "2021-09-19T21:05:13.695Z"
   },
   {
    "duration": 19,
    "start_time": "2021-09-19T21:05:40.123Z"
   },
   {
    "duration": 25,
    "start_time": "2021-09-19T21:06:01.578Z"
   },
   {
    "duration": 22,
    "start_time": "2021-09-19T21:06:23.194Z"
   },
   {
    "duration": 22,
    "start_time": "2021-09-19T21:06:36.201Z"
   },
   {
    "duration": 30,
    "start_time": "2021-09-19T21:10:55.244Z"
   },
   {
    "duration": 30,
    "start_time": "2021-09-19T21:10:56.595Z"
   },
   {
    "duration": 22,
    "start_time": "2021-09-19T21:12:16.889Z"
   },
   {
    "duration": 22,
    "start_time": "2021-09-19T21:12:18.549Z"
   },
   {
    "duration": 20,
    "start_time": "2021-09-19T21:12:45.790Z"
   },
   {
    "duration": 32,
    "start_time": "2021-09-19T21:12:47.407Z"
   },
   {
    "duration": 22,
    "start_time": "2021-09-19T21:12:49.254Z"
   },
   {
    "duration": 336,
    "start_time": "2021-09-19T21:21:08.824Z"
   },
   {
    "duration": 344,
    "start_time": "2021-09-19T21:21:19.922Z"
   },
   {
    "duration": 4,
    "start_time": "2021-09-19T21:21:36.354Z"
   },
   {
    "duration": 199,
    "start_time": "2021-09-19T21:21:36.362Z"
   },
   {
    "duration": 16,
    "start_time": "2021-09-19T21:21:36.564Z"
   },
   {
    "duration": 33,
    "start_time": "2021-09-19T21:21:36.583Z"
   },
   {
    "duration": 4,
    "start_time": "2021-09-19T21:21:36.619Z"
   },
   {
    "duration": 65,
    "start_time": "2021-09-19T21:21:36.625Z"
   },
   {
    "duration": 4,
    "start_time": "2021-09-19T21:21:36.694Z"
   },
   {
    "duration": 31,
    "start_time": "2021-09-19T21:21:36.701Z"
   },
   {
    "duration": 45,
    "start_time": "2021-09-19T21:21:36.735Z"
   },
   {
    "duration": 32,
    "start_time": "2021-09-19T21:21:36.783Z"
   },
   {
    "duration": 104,
    "start_time": "2021-09-19T21:21:36.817Z"
   },
   {
    "duration": 104,
    "start_time": "2021-09-19T21:21:36.924Z"
   },
   {
    "duration": 88,
    "start_time": "2021-09-19T21:21:37.031Z"
   },
   {
    "duration": 62,
    "start_time": "2021-09-19T21:21:37.122Z"
   },
   {
    "duration": 4,
    "start_time": "2021-09-19T21:21:37.186Z"
   },
   {
    "duration": 18,
    "start_time": "2021-09-19T21:21:37.192Z"
   },
   {
    "duration": 82,
    "start_time": "2021-09-19T21:21:37.212Z"
   },
   {
    "duration": 103,
    "start_time": "2021-09-19T21:21:37.296Z"
   },
   {
    "duration": 352,
    "start_time": "2021-09-19T21:21:37.050Z"
   },
   {
    "duration": 350,
    "start_time": "2021-09-19T21:21:37.053Z"
   },
   {
    "duration": 350,
    "start_time": "2021-09-19T21:21:37.055Z"
   },
   {
    "duration": 342,
    "start_time": "2021-09-19T21:21:37.064Z"
   },
   {
    "duration": 341,
    "start_time": "2021-09-19T21:21:37.067Z"
   },
   {
    "duration": 340,
    "start_time": "2021-09-19T21:21:37.069Z"
   },
   {
    "duration": 339,
    "start_time": "2021-09-19T21:21:37.071Z"
   },
   {
    "duration": 339,
    "start_time": "2021-09-19T21:21:37.073Z"
   },
   {
    "duration": 337,
    "start_time": "2021-09-19T21:21:37.076Z"
   },
   {
    "duration": 365,
    "start_time": "2021-09-19T21:21:48.204Z"
   },
   {
    "duration": 23,
    "start_time": "2021-09-19T21:22:08.897Z"
   },
   {
    "duration": 23,
    "start_time": "2021-09-19T21:22:08.922Z"
   },
   {
    "duration": 21,
    "start_time": "2021-09-19T21:22:10.484Z"
   },
   {
    "duration": 20,
    "start_time": "2021-09-19T21:22:11.178Z"
   },
   {
    "duration": 21,
    "start_time": "2021-09-19T21:22:12.130Z"
   },
   {
    "duration": 21,
    "start_time": "2021-09-19T21:22:13.133Z"
   },
   {
    "duration": 353,
    "start_time": "2021-09-19T21:22:15.433Z"
   },
   {
    "duration": 9,
    "start_time": "2021-09-19T21:22:47.494Z"
   },
   {
    "duration": 8,
    "start_time": "2021-09-19T21:22:49.576Z"
   },
   {
    "duration": 14,
    "start_time": "2021-09-19T21:23:11.102Z"
   },
   {
    "duration": 862,
    "start_time": "2021-09-19T21:23:43.848Z"
   },
   {
    "duration": 197,
    "start_time": "2021-09-19T21:23:44.713Z"
   },
   {
    "duration": 27,
    "start_time": "2021-09-19T21:23:44.913Z"
   },
   {
    "duration": 75,
    "start_time": "2021-09-19T21:23:44.943Z"
   },
   {
    "duration": 25,
    "start_time": "2021-09-19T21:23:45.021Z"
   },
   {
    "duration": 38,
    "start_time": "2021-09-19T21:23:45.048Z"
   },
   {
    "duration": 37,
    "start_time": "2021-09-19T21:23:45.089Z"
   },
   {
    "duration": 54,
    "start_time": "2021-09-19T21:23:45.131Z"
   },
   {
    "duration": 37,
    "start_time": "2021-09-19T21:23:45.189Z"
   },
   {
    "duration": 43,
    "start_time": "2021-09-19T21:23:45.229Z"
   },
   {
    "duration": 105,
    "start_time": "2021-09-19T21:23:45.274Z"
   },
   {
    "duration": 119,
    "start_time": "2021-09-19T21:23:45.381Z"
   },
   {
    "duration": 108,
    "start_time": "2021-09-19T21:23:45.502Z"
   },
   {
    "duration": 74,
    "start_time": "2021-09-19T21:23:45.613Z"
   },
   {
    "duration": 4,
    "start_time": "2021-09-19T21:23:45.689Z"
   },
   {
    "duration": 22,
    "start_time": "2021-09-19T21:23:45.696Z"
   },
   {
    "duration": 83,
    "start_time": "2021-09-19T21:23:45.721Z"
   },
   {
    "duration": 133,
    "start_time": "2021-09-19T21:23:45.806Z"
   },
   {
    "duration": 352,
    "start_time": "2021-09-19T21:23:45.590Z"
   },
   {
    "duration": 351,
    "start_time": "2021-09-19T21:23:45.592Z"
   },
   {
    "duration": 345,
    "start_time": "2021-09-19T21:23:45.600Z"
   },
   {
    "duration": 340,
    "start_time": "2021-09-19T21:23:45.606Z"
   },
   {
    "duration": 339,
    "start_time": "2021-09-19T21:23:45.608Z"
   },
   {
    "duration": 338,
    "start_time": "2021-09-19T21:23:45.611Z"
   },
   {
    "duration": 337,
    "start_time": "2021-09-19T21:23:45.613Z"
   },
   {
    "duration": 336,
    "start_time": "2021-09-19T21:23:45.615Z"
   },
   {
    "duration": 335,
    "start_time": "2021-09-19T21:23:45.618Z"
   },
   {
    "duration": 458,
    "start_time": "2021-09-19T21:23:52.225Z"
   },
   {
    "duration": 618,
    "start_time": "2021-09-19T21:24:06.522Z"
   },
   {
    "duration": 346,
    "start_time": "2021-09-19T21:24:06.798Z"
   },
   {
    "duration": 344,
    "start_time": "2021-09-19T21:24:06.802Z"
   },
   {
    "duration": 343,
    "start_time": "2021-09-19T21:24:06.805Z"
   },
   {
    "duration": 341,
    "start_time": "2021-09-19T21:24:06.809Z"
   },
   {
    "duration": 339,
    "start_time": "2021-09-19T21:24:06.813Z"
   },
   {
    "duration": 337,
    "start_time": "2021-09-19T21:24:06.817Z"
   },
   {
    "duration": 336,
    "start_time": "2021-09-19T21:24:06.820Z"
   },
   {
    "duration": 335,
    "start_time": "2021-09-19T21:24:06.823Z"
   },
   {
    "duration": 334,
    "start_time": "2021-09-19T21:24:06.826Z"
   },
   {
    "duration": 332,
    "start_time": "2021-09-19T21:24:06.830Z"
   },
   {
    "duration": 332,
    "start_time": "2021-09-19T21:24:06.833Z"
   },
   {
    "duration": 4,
    "start_time": "2021-09-19T21:24:29.486Z"
   },
   {
    "duration": 206,
    "start_time": "2021-09-19T21:24:29.496Z"
   },
   {
    "duration": 23,
    "start_time": "2021-09-19T21:24:29.705Z"
   },
   {
    "duration": 52,
    "start_time": "2021-09-19T21:24:29.732Z"
   },
   {
    "duration": 6,
    "start_time": "2021-09-19T21:24:29.787Z"
   },
   {
    "duration": 35,
    "start_time": "2021-09-19T21:24:29.796Z"
   },
   {
    "duration": 5,
    "start_time": "2021-09-19T21:24:29.833Z"
   },
   {
    "duration": 54,
    "start_time": "2021-09-19T21:24:29.841Z"
   },
   {
    "duration": 26,
    "start_time": "2021-09-19T21:24:29.898Z"
   },
   {
    "duration": 43,
    "start_time": "2021-09-19T21:24:29.928Z"
   },
   {
    "duration": 97,
    "start_time": "2021-09-19T21:24:29.974Z"
   },
   {
    "duration": 111,
    "start_time": "2021-09-19T21:24:30.074Z"
   },
   {
    "duration": 93,
    "start_time": "2021-09-19T21:24:30.187Z"
   },
   {
    "duration": 58,
    "start_time": "2021-09-19T21:24:30.283Z"
   },
   {
    "duration": 4,
    "start_time": "2021-09-19T21:24:30.344Z"
   },
   {
    "duration": 20,
    "start_time": "2021-09-19T21:24:30.368Z"
   },
   {
    "duration": 79,
    "start_time": "2021-09-19T21:24:30.390Z"
   },
   {
    "duration": 122,
    "start_time": "2021-09-19T21:24:30.471Z"
   },
   {
    "duration": 350,
    "start_time": "2021-09-19T21:24:30.246Z"
   },
   {
    "duration": 348,
    "start_time": "2021-09-19T21:24:30.250Z"
   },
   {
    "duration": 343,
    "start_time": "2021-09-19T21:24:30.256Z"
   },
   {
    "duration": 343,
    "start_time": "2021-09-19T21:24:30.259Z"
   },
   {
    "duration": 341,
    "start_time": "2021-09-19T21:24:30.262Z"
   },
   {
    "duration": 341,
    "start_time": "2021-09-19T21:24:30.264Z"
   },
   {
    "duration": 342,
    "start_time": "2021-09-19T21:24:30.266Z"
   },
   {
    "duration": 336,
    "start_time": "2021-09-19T21:24:30.274Z"
   },
   {
    "duration": 351,
    "start_time": "2021-09-19T21:24:34.588Z"
   },
   {
    "duration": 4,
    "start_time": "2021-09-19T21:24:41.054Z"
   },
   {
    "duration": 219,
    "start_time": "2021-09-19T21:24:41.061Z"
   },
   {
    "duration": 17,
    "start_time": "2021-09-19T21:24:41.284Z"
   },
   {
    "duration": 37,
    "start_time": "2021-09-19T21:24:41.304Z"
   },
   {
    "duration": 27,
    "start_time": "2021-09-19T21:24:41.343Z"
   },
   {
    "duration": 29,
    "start_time": "2021-09-19T21:24:41.373Z"
   },
   {
    "duration": 4,
    "start_time": "2021-09-19T21:24:41.405Z"
   },
   {
    "duration": 74,
    "start_time": "2021-09-19T21:24:41.411Z"
   },
   {
    "duration": 23,
    "start_time": "2021-09-19T21:24:41.490Z"
   },
   {
    "duration": 53,
    "start_time": "2021-09-19T21:24:41.516Z"
   },
   {
    "duration": 107,
    "start_time": "2021-09-19T21:24:41.571Z"
   },
   {
    "duration": 103,
    "start_time": "2021-09-19T21:24:41.680Z"
   },
   {
    "duration": 86,
    "start_time": "2021-09-19T21:24:41.786Z"
   },
   {
    "duration": 58,
    "start_time": "2021-09-19T21:24:41.874Z"
   },
   {
    "duration": 3,
    "start_time": "2021-09-19T21:24:41.935Z"
   },
   {
    "duration": 39,
    "start_time": "2021-09-19T21:24:41.941Z"
   },
   {
    "duration": 64,
    "start_time": "2021-09-19T21:24:41.983Z"
   },
   {
    "duration": 128,
    "start_time": "2021-09-19T21:24:42.049Z"
   },
   {
    "duration": 356,
    "start_time": "2021-09-19T21:24:41.824Z"
   },
   {
    "duration": 351,
    "start_time": "2021-09-19T21:24:41.831Z"
   },
   {
    "duration": 348,
    "start_time": "2021-09-19T21:24:41.835Z"
   },
   {
    "duration": 342,
    "start_time": "2021-09-19T21:24:41.843Z"
   },
   {
    "duration": 341,
    "start_time": "2021-09-19T21:24:41.846Z"
   },
   {
    "duration": 338,
    "start_time": "2021-09-19T21:24:41.850Z"
   },
   {
    "duration": 337,
    "start_time": "2021-09-19T21:24:41.853Z"
   },
   {
    "duration": 336,
    "start_time": "2021-09-19T21:24:41.855Z"
   },
   {
    "duration": 336,
    "start_time": "2021-09-19T21:24:41.857Z"
   },
   {
    "duration": 110,
    "start_time": "2021-09-19T21:25:01.309Z"
   },
   {
    "duration": 106,
    "start_time": "2021-09-19T21:25:09.424Z"
   },
   {
    "duration": 221,
    "start_time": "2021-09-19T21:25:44.056Z"
   },
   {
    "duration": 15,
    "start_time": "2021-09-19T21:25:50.750Z"
   },
   {
    "duration": 4,
    "start_time": "2021-09-19T21:25:58.378Z"
   },
   {
    "duration": 203,
    "start_time": "2021-09-19T21:25:58.385Z"
   },
   {
    "duration": 15,
    "start_time": "2021-09-19T21:25:58.591Z"
   },
   {
    "duration": 43,
    "start_time": "2021-09-19T21:25:58.609Z"
   },
   {
    "duration": 24,
    "start_time": "2021-09-19T21:25:58.654Z"
   },
   {
    "duration": 23,
    "start_time": "2021-09-19T21:25:58.681Z"
   },
   {
    "duration": 5,
    "start_time": "2021-09-19T21:25:58.706Z"
   },
   {
    "duration": 56,
    "start_time": "2021-09-19T21:25:58.715Z"
   },
   {
    "duration": 23,
    "start_time": "2021-09-19T21:25:58.774Z"
   },
   {
    "duration": 37,
    "start_time": "2021-09-19T21:25:58.799Z"
   },
   {
    "duration": 106,
    "start_time": "2021-09-19T21:25:58.838Z"
   },
   {
    "duration": 105,
    "start_time": "2021-09-19T21:25:58.946Z"
   },
   {
    "duration": 87,
    "start_time": "2021-09-19T21:25:59.053Z"
   },
   {
    "duration": 75,
    "start_time": "2021-09-19T21:25:59.142Z"
   },
   {
    "duration": 4,
    "start_time": "2021-09-19T21:25:59.220Z"
   },
   {
    "duration": 17,
    "start_time": "2021-09-19T21:25:59.226Z"
   },
   {
    "duration": 77,
    "start_time": "2021-09-19T21:25:59.246Z"
   },
   {
    "duration": 15,
    "start_time": "2021-09-19T21:25:59.325Z"
   },
   {
    "duration": 37,
    "start_time": "2021-09-19T21:25:59.343Z"
   },
   {
    "duration": 4,
    "start_time": "2021-09-19T21:25:59.382Z"
   },
   {
    "duration": 50,
    "start_time": "2021-09-19T21:25:59.389Z"
   },
   {
    "duration": 29,
    "start_time": "2021-09-19T21:25:59.441Z"
   },
   {
    "duration": 21,
    "start_time": "2021-09-19T21:25:59.475Z"
   },
   {
    "duration": 19,
    "start_time": "2021-09-19T21:25:59.499Z"
   },
   {
    "duration": 61,
    "start_time": "2021-09-19T21:25:59.521Z"
   },
   {
    "duration": 21,
    "start_time": "2021-09-19T21:25:59.584Z"
   },
   {
    "duration": 13,
    "start_time": "2021-09-19T21:25:59.607Z"
   },
   {
    "duration": 3,
    "start_time": "2021-09-19T21:26:20.185Z"
   },
   {
    "duration": 196,
    "start_time": "2021-09-19T21:26:20.191Z"
   },
   {
    "duration": 16,
    "start_time": "2021-09-19T21:26:20.390Z"
   },
   {
    "duration": 58,
    "start_time": "2021-09-19T21:26:20.409Z"
   },
   {
    "duration": 5,
    "start_time": "2021-09-19T21:26:20.470Z"
   },
   {
    "duration": 33,
    "start_time": "2021-09-19T21:26:20.479Z"
   },
   {
    "duration": 6,
    "start_time": "2021-09-19T21:26:20.514Z"
   },
   {
    "duration": 69,
    "start_time": "2021-09-19T21:26:20.526Z"
   },
   {
    "duration": 25,
    "start_time": "2021-09-19T21:26:20.599Z"
   },
   {
    "duration": 52,
    "start_time": "2021-09-19T21:26:20.627Z"
   },
   {
    "duration": 106,
    "start_time": "2021-09-19T21:26:20.682Z"
   },
   {
    "duration": 112,
    "start_time": "2021-09-19T21:26:20.792Z"
   },
   {
    "duration": 95,
    "start_time": "2021-09-19T21:26:20.907Z"
   },
   {
    "duration": 72,
    "start_time": "2021-09-19T21:26:21.005Z"
   },
   {
    "duration": 5,
    "start_time": "2021-09-19T21:26:21.081Z"
   },
   {
    "duration": 18,
    "start_time": "2021-09-19T21:26:21.089Z"
   },
   {
    "duration": 94,
    "start_time": "2021-09-19T21:26:21.110Z"
   },
   {
    "duration": 18,
    "start_time": "2021-09-19T21:26:21.207Z"
   },
   {
    "duration": 47,
    "start_time": "2021-09-19T21:26:21.227Z"
   },
   {
    "duration": 5,
    "start_time": "2021-09-19T21:26:21.278Z"
   },
   {
    "duration": 34,
    "start_time": "2021-09-19T21:26:21.286Z"
   },
   {
    "duration": 19,
    "start_time": "2021-09-19T21:26:21.323Z"
   },
   {
    "duration": 20,
    "start_time": "2021-09-19T21:26:21.371Z"
   },
   {
    "duration": 22,
    "start_time": "2021-09-19T21:26:21.394Z"
   },
   {
    "duration": 61,
    "start_time": "2021-09-19T21:26:21.419Z"
   },
   {
    "duration": 21,
    "start_time": "2021-09-19T21:26:21.483Z"
   },
   {
    "duration": 15,
    "start_time": "2021-09-19T21:26:21.506Z"
   },
   {
    "duration": 4,
    "start_time": "2021-09-19T21:26:40.901Z"
   },
   {
    "duration": 198,
    "start_time": "2021-09-19T21:26:40.913Z"
   },
   {
    "duration": 15,
    "start_time": "2021-09-19T21:26:41.113Z"
   },
   {
    "duration": 58,
    "start_time": "2021-09-19T21:26:41.133Z"
   },
   {
    "duration": 5,
    "start_time": "2021-09-19T21:26:41.194Z"
   },
   {
    "duration": 22,
    "start_time": "2021-09-19T21:26:41.202Z"
   },
   {
    "duration": 6,
    "start_time": "2021-09-19T21:26:41.226Z"
   },
   {
    "duration": 60,
    "start_time": "2021-09-19T21:26:41.235Z"
   },
   {
    "duration": 24,
    "start_time": "2021-09-19T21:26:41.298Z"
   },
   {
    "duration": 56,
    "start_time": "2021-09-19T21:26:41.325Z"
   },
   {
    "duration": 106,
    "start_time": "2021-09-19T21:26:41.384Z"
   },
   {
    "duration": 117,
    "start_time": "2021-09-19T21:26:41.493Z"
   },
   {
    "duration": 89,
    "start_time": "2021-09-19T21:26:41.613Z"
   },
   {
    "duration": 72,
    "start_time": "2021-09-19T21:26:41.705Z"
   },
   {
    "duration": 4,
    "start_time": "2021-09-19T21:26:41.779Z"
   },
   {
    "duration": 16,
    "start_time": "2021-09-19T21:26:41.786Z"
   },
   {
    "duration": 87,
    "start_time": "2021-09-19T21:26:41.805Z"
   },
   {
    "duration": 16,
    "start_time": "2021-09-19T21:26:41.894Z"
   },
   {
    "duration": 17,
    "start_time": "2021-09-19T21:26:41.914Z"
   },
   {
    "duration": 7,
    "start_time": "2021-09-19T21:26:41.966Z"
   },
   {
    "duration": 29,
    "start_time": "2021-09-19T21:26:41.976Z"
   },
   {
    "duration": 23,
    "start_time": "2021-09-19T21:26:42.008Z"
   },
   {
    "duration": 54,
    "start_time": "2021-09-19T21:26:42.034Z"
   },
   {
    "duration": 24,
    "start_time": "2021-09-19T21:26:42.091Z"
   },
   {
    "duration": 53,
    "start_time": "2021-09-19T21:26:42.117Z"
   },
   {
    "duration": 21,
    "start_time": "2021-09-19T21:26:42.173Z"
   },
   {
    "duration": 15,
    "start_time": "2021-09-19T21:26:42.196Z"
   },
   {
    "duration": 675,
    "start_time": "2021-09-19T21:31:18.892Z"
   },
   {
    "duration": 14,
    "start_time": "2021-09-19T21:32:29.030Z"
   },
   {
    "duration": 356,
    "start_time": "2021-09-19T21:33:09.826Z"
   },
   {
    "duration": 373,
    "start_time": "2021-09-19T21:34:57.225Z"
   },
   {
    "duration": 341,
    "start_time": "2021-09-19T21:35:11.596Z"
   },
   {
    "duration": 110,
    "start_time": "2021-09-19T21:35:46.813Z"
   },
   {
    "duration": 10,
    "start_time": "2021-09-19T21:36:55.971Z"
   },
   {
    "duration": 13,
    "start_time": "2021-09-19T21:37:16.244Z"
   },
   {
    "duration": 3,
    "start_time": "2021-09-19T21:38:13.504Z"
   },
   {
    "duration": 205,
    "start_time": "2021-09-19T21:38:13.510Z"
   },
   {
    "duration": 17,
    "start_time": "2021-09-19T21:38:13.718Z"
   },
   {
    "duration": 72,
    "start_time": "2021-09-19T21:38:13.738Z"
   },
   {
    "duration": 10,
    "start_time": "2021-09-19T21:38:13.813Z"
   },
   {
    "duration": 45,
    "start_time": "2021-09-19T21:38:13.825Z"
   },
   {
    "duration": 5,
    "start_time": "2021-09-19T21:38:13.872Z"
   },
   {
    "duration": 39,
    "start_time": "2021-09-19T21:38:13.881Z"
   },
   {
    "duration": 46,
    "start_time": "2021-09-19T21:38:13.924Z"
   },
   {
    "duration": 33,
    "start_time": "2021-09-19T21:38:13.973Z"
   },
   {
    "duration": 110,
    "start_time": "2021-09-19T21:38:14.009Z"
   },
   {
    "duration": 120,
    "start_time": "2021-09-19T21:38:14.122Z"
   },
   {
    "duration": 84,
    "start_time": "2021-09-19T21:38:14.244Z"
   },
   {
    "duration": 65,
    "start_time": "2021-09-19T21:38:14.330Z"
   },
   {
    "duration": 3,
    "start_time": "2021-09-19T21:38:14.398Z"
   },
   {
    "duration": 16,
    "start_time": "2021-09-19T21:38:14.404Z"
   },
   {
    "duration": 85,
    "start_time": "2021-09-19T21:38:14.423Z"
   },
   {
    "duration": 16,
    "start_time": "2021-09-19T21:38:14.510Z"
   },
   {
    "duration": 42,
    "start_time": "2021-09-19T21:38:14.528Z"
   },
   {
    "duration": 5,
    "start_time": "2021-09-19T21:38:14.573Z"
   },
   {
    "duration": 27,
    "start_time": "2021-09-19T21:38:14.581Z"
   },
   {
    "duration": 20,
    "start_time": "2021-09-19T21:38:14.610Z"
   },
   {
    "duration": 20,
    "start_time": "2021-09-19T21:38:14.669Z"
   },
   {
    "duration": 18,
    "start_time": "2021-09-19T21:38:14.691Z"
   },
   {
    "duration": 58,
    "start_time": "2021-09-19T21:38:14.711Z"
   },
   {
    "duration": 20,
    "start_time": "2021-09-19T21:38:14.771Z"
   },
   {
    "duration": 11,
    "start_time": "2021-09-19T21:38:14.794Z"
   },
   {
    "duration": 380,
    "start_time": "2021-09-20T21:27:35.356Z"
   },
   {
    "duration": 750,
    "start_time": "2021-09-20T21:27:47.758Z"
   },
   {
    "duration": 196,
    "start_time": "2021-09-20T21:27:48.511Z"
   },
   {
    "duration": 28,
    "start_time": "2021-09-20T21:27:48.710Z"
   },
   {
    "duration": 47,
    "start_time": "2021-09-20T21:27:48.741Z"
   },
   {
    "duration": 17,
    "start_time": "2021-09-20T21:27:48.791Z"
   },
   {
    "duration": 51,
    "start_time": "2021-09-20T21:27:48.811Z"
   },
   {
    "duration": 22,
    "start_time": "2021-09-20T21:27:48.865Z"
   },
   {
    "duration": 43,
    "start_time": "2021-09-20T21:27:48.890Z"
   },
   {
    "duration": 28,
    "start_time": "2021-09-20T21:27:48.936Z"
   },
   {
    "duration": 49,
    "start_time": "2021-09-20T21:27:48.966Z"
   },
   {
    "duration": 100,
    "start_time": "2021-09-20T21:27:49.017Z"
   },
   {
    "duration": 98,
    "start_time": "2021-09-20T21:27:49.119Z"
   },
   {
    "duration": 73,
    "start_time": "2021-09-20T21:27:49.219Z"
   },
   {
    "duration": 67,
    "start_time": "2021-09-20T21:27:49.294Z"
   },
   {
    "duration": 8,
    "start_time": "2021-09-20T21:27:49.364Z"
   },
   {
    "duration": 33,
    "start_time": "2021-09-20T21:27:49.374Z"
   },
   {
    "duration": 54,
    "start_time": "2021-09-20T21:27:49.410Z"
   },
   {
    "duration": 24,
    "start_time": "2021-09-20T21:27:49.466Z"
   },
   {
    "duration": 33,
    "start_time": "2021-09-20T21:27:49.493Z"
   },
   {
    "duration": 4,
    "start_time": "2021-09-20T21:27:49.528Z"
   },
   {
    "duration": 40,
    "start_time": "2021-09-20T21:27:49.535Z"
   },
   {
    "duration": 34,
    "start_time": "2021-09-20T21:27:49.578Z"
   },
   {
    "duration": 19,
    "start_time": "2021-09-20T21:27:49.616Z"
   },
   {
    "duration": 25,
    "start_time": "2021-09-20T21:27:49.637Z"
   },
   {
    "duration": 35,
    "start_time": "2021-09-20T21:27:49.665Z"
   },
   {
    "duration": 35,
    "start_time": "2021-09-20T21:27:49.702Z"
   },
   {
    "duration": 17,
    "start_time": "2021-09-20T21:27:49.739Z"
   },
   {
    "duration": 14,
    "start_time": "2021-09-20T21:27:54.252Z"
   },
   {
    "duration": 12,
    "start_time": "2021-09-20T21:27:57.285Z"
   },
   {
    "duration": 5,
    "start_time": "2021-09-20T21:28:01.608Z"
   },
   {
    "duration": 24,
    "start_time": "2021-09-20T21:28:05.564Z"
   },
   {
    "duration": 25,
    "start_time": "2021-09-20T21:29:26.099Z"
   },
   {
    "duration": 18,
    "start_time": "2021-09-20T21:29:43.571Z"
   },
   {
    "duration": 22,
    "start_time": "2021-09-20T21:30:25.815Z"
   },
   {
    "duration": 18,
    "start_time": "2021-09-20T21:30:28.617Z"
   },
   {
    "duration": 339,
    "start_time": "2021-09-20T21:36:32.502Z"
   },
   {
    "duration": 12,
    "start_time": "2021-09-20T21:36:47.206Z"
   },
   {
    "duration": 7,
    "start_time": "2021-09-20T21:37:06.481Z"
   },
   {
    "duration": 9,
    "start_time": "2021-09-20T21:37:49.300Z"
   },
   {
    "duration": 7,
    "start_time": "2021-09-20T21:38:09.492Z"
   },
   {
    "duration": 4,
    "start_time": "2021-09-20T21:42:07.407Z"
   },
   {
    "duration": 250,
    "start_time": "2021-09-20T21:42:07.415Z"
   },
   {
    "duration": 17,
    "start_time": "2021-09-20T21:42:07.669Z"
   },
   {
    "duration": 66,
    "start_time": "2021-09-20T21:42:07.690Z"
   },
   {
    "duration": 5,
    "start_time": "2021-09-20T21:42:07.759Z"
   },
   {
    "duration": 32,
    "start_time": "2021-09-20T21:42:07.766Z"
   },
   {
    "duration": 5,
    "start_time": "2021-09-20T21:42:07.823Z"
   },
   {
    "duration": 39,
    "start_time": "2021-09-20T21:42:07.832Z"
   },
   {
    "duration": 50,
    "start_time": "2021-09-20T21:42:07.877Z"
   },
   {
    "duration": 33,
    "start_time": "2021-09-20T21:42:07.931Z"
   },
   {
    "duration": 105,
    "start_time": "2021-09-20T21:42:07.966Z"
   },
   {
    "duration": 104,
    "start_time": "2021-09-20T21:42:08.074Z"
   },
   {
    "duration": 94,
    "start_time": "2021-09-20T21:42:08.181Z"
   },
   {
    "duration": 65,
    "start_time": "2021-09-20T21:42:08.277Z"
   },
   {
    "duration": 4,
    "start_time": "2021-09-20T21:42:08.346Z"
   },
   {
    "duration": 16,
    "start_time": "2021-09-20T21:42:08.353Z"
   },
   {
    "duration": 93,
    "start_time": "2021-09-20T21:42:08.371Z"
   },
   {
    "duration": 17,
    "start_time": "2021-09-20T21:42:08.466Z"
   },
   {
    "duration": 46,
    "start_time": "2021-09-20T21:42:08.485Z"
   },
   {
    "duration": 6,
    "start_time": "2021-09-20T21:42:08.534Z"
   },
   {
    "duration": 30,
    "start_time": "2021-09-20T21:42:08.542Z"
   },
   {
    "duration": 18,
    "start_time": "2021-09-20T21:42:08.574Z"
   },
   {
    "duration": 52,
    "start_time": "2021-09-20T21:42:08.595Z"
   },
   {
    "duration": 17,
    "start_time": "2021-09-20T21:42:08.650Z"
   },
   {
    "duration": 23,
    "start_time": "2021-09-20T21:42:08.670Z"
   },
   {
    "duration": 25,
    "start_time": "2021-09-20T21:42:08.723Z"
   },
   {
    "duration": 13,
    "start_time": "2021-09-20T21:42:08.753Z"
   },
   {
    "duration": 16,
    "start_time": "2021-09-20T21:42:08.769Z"
   },
   {
    "duration": 46,
    "start_time": "2021-09-20T21:42:08.788Z"
   },
   {
    "duration": 6,
    "start_time": "2021-09-20T21:42:08.838Z"
   },
   {
    "duration": 32,
    "start_time": "2021-09-20T21:42:08.846Z"
   },
   {
    "duration": 50,
    "start_time": "2021-09-20T21:42:08.880Z"
   },
   {
    "duration": 24,
    "start_time": "2021-09-20T21:42:08.933Z"
   },
   {
    "duration": 17,
    "start_time": "2021-09-20T21:42:08.959Z"
   },
   {
    "duration": 46,
    "start_time": "2021-09-20T21:42:08.979Z"
   },
   {
    "duration": 9,
    "start_time": "2021-09-20T21:42:09.028Z"
   },
   {
    "duration": 11,
    "start_time": "2021-09-20T21:42:09.041Z"
   },
   {
    "duration": 8,
    "start_time": "2021-09-20T21:42:09.054Z"
   },
   {
    "duration": 81,
    "start_time": "2021-09-20T21:44:09.253Z"
   },
   {
    "duration": 79,
    "start_time": "2021-09-20T21:44:23.899Z"
   },
   {
    "duration": 61,
    "start_time": "2021-09-20T21:44:39.630Z"
   },
   {
    "duration": 59,
    "start_time": "2021-09-20T21:44:46.846Z"
   },
   {
    "duration": 3,
    "start_time": "2021-09-20T21:46:22.234Z"
   },
   {
    "duration": 208,
    "start_time": "2021-09-20T21:46:22.240Z"
   },
   {
    "duration": 15,
    "start_time": "2021-09-20T21:46:22.451Z"
   },
   {
    "duration": 54,
    "start_time": "2021-09-20T21:46:22.469Z"
   },
   {
    "duration": 8,
    "start_time": "2021-09-20T21:46:22.526Z"
   },
   {
    "duration": 26,
    "start_time": "2021-09-20T21:46:22.538Z"
   },
   {
    "duration": 5,
    "start_time": "2021-09-20T21:46:22.566Z"
   },
   {
    "duration": 79,
    "start_time": "2021-09-20T21:46:22.577Z"
   },
   {
    "duration": 25,
    "start_time": "2021-09-20T21:46:22.659Z"
   },
   {
    "duration": 58,
    "start_time": "2021-09-20T21:46:22.686Z"
   },
   {
    "duration": 112,
    "start_time": "2021-09-20T21:46:22.747Z"
   },
   {
    "duration": 110,
    "start_time": "2021-09-20T21:46:22.862Z"
   },
   {
    "duration": 93,
    "start_time": "2021-09-20T21:46:22.975Z"
   },
   {
    "duration": 64,
    "start_time": "2021-09-20T21:46:23.070Z"
   },
   {
    "duration": 4,
    "start_time": "2021-09-20T21:46:23.137Z"
   },
   {
    "duration": 16,
    "start_time": "2021-09-20T21:46:23.143Z"
   },
   {
    "duration": 87,
    "start_time": "2021-09-20T21:46:23.161Z"
   },
   {
    "duration": 17,
    "start_time": "2021-09-20T21:46:23.250Z"
   },
   {
    "duration": 17,
    "start_time": "2021-09-20T21:46:23.269Z"
   },
   {
    "duration": 4,
    "start_time": "2021-09-20T21:46:23.288Z"
   },
   {
    "duration": 58,
    "start_time": "2021-09-20T21:46:23.295Z"
   },
   {
    "duration": 19,
    "start_time": "2021-09-20T21:46:23.355Z"
   },
   {
    "duration": 21,
    "start_time": "2021-09-20T21:46:23.379Z"
   },
   {
    "duration": 22,
    "start_time": "2021-09-20T21:46:23.428Z"
   },
   {
    "duration": 22,
    "start_time": "2021-09-20T21:46:23.452Z"
   },
   {
    "duration": 54,
    "start_time": "2021-09-20T21:46:23.476Z"
   },
   {
    "duration": 13,
    "start_time": "2021-09-20T21:46:23.533Z"
   },
   {
    "duration": 22,
    "start_time": "2021-09-20T21:46:23.549Z"
   },
   {
    "duration": 18,
    "start_time": "2021-09-20T21:46:23.573Z"
   },
   {
    "duration": 34,
    "start_time": "2021-09-20T21:46:23.593Z"
   },
   {
    "duration": 32,
    "start_time": "2021-09-20T21:46:23.633Z"
   },
   {
    "duration": 18,
    "start_time": "2021-09-20T21:46:23.668Z"
   },
   {
    "duration": 51,
    "start_time": "2021-09-20T21:46:23.688Z"
   },
   {
    "duration": 16,
    "start_time": "2021-09-20T21:46:23.741Z"
   },
   {
    "duration": 10,
    "start_time": "2021-09-20T21:46:23.759Z"
   },
   {
    "duration": 6,
    "start_time": "2021-09-20T21:46:23.772Z"
   },
   {
    "duration": 53,
    "start_time": "2021-09-20T21:46:23.780Z"
   },
   {
    "duration": 7,
    "start_time": "2021-09-20T21:46:23.835Z"
   },
   {
    "duration": 4,
    "start_time": "2021-09-20T21:46:48.704Z"
   },
   {
    "duration": 198,
    "start_time": "2021-09-20T21:46:48.715Z"
   },
   {
    "duration": 18,
    "start_time": "2021-09-20T21:46:48.916Z"
   },
   {
    "duration": 47,
    "start_time": "2021-09-20T21:46:48.938Z"
   },
   {
    "duration": 12,
    "start_time": "2021-09-20T21:46:48.988Z"
   },
   {
    "duration": 45,
    "start_time": "2021-09-20T21:46:49.003Z"
   },
   {
    "duration": 5,
    "start_time": "2021-09-20T21:46:49.050Z"
   },
   {
    "duration": 37,
    "start_time": "2021-09-20T21:46:49.058Z"
   },
   {
    "duration": 39,
    "start_time": "2021-09-20T21:46:49.098Z"
   },
   {
    "duration": 33,
    "start_time": "2021-09-20T21:46:49.142Z"
   },
   {
    "duration": 104,
    "start_time": "2021-09-20T21:46:49.179Z"
   },
   {
    "duration": 105,
    "start_time": "2021-09-20T21:46:49.285Z"
   },
   {
    "duration": 83,
    "start_time": "2021-09-20T21:46:49.392Z"
   },
   {
    "duration": 82,
    "start_time": "2021-09-20T21:46:49.477Z"
   },
   {
    "duration": 4,
    "start_time": "2021-09-20T21:46:49.561Z"
   },
   {
    "duration": 24,
    "start_time": "2021-09-20T21:46:49.567Z"
   },
   {
    "duration": 79,
    "start_time": "2021-09-20T21:46:49.593Z"
   },
   {
    "duration": 17,
    "start_time": "2021-09-20T21:46:49.674Z"
   },
   {
    "duration": 42,
    "start_time": "2021-09-20T21:46:49.694Z"
   },
   {
    "duration": 5,
    "start_time": "2021-09-20T21:46:49.738Z"
   },
   {
    "duration": 26,
    "start_time": "2021-09-20T21:46:49.745Z"
   },
   {
    "duration": 19,
    "start_time": "2021-09-20T21:46:49.775Z"
   },
   {
    "duration": 50,
    "start_time": "2021-09-20T21:46:49.797Z"
   },
   {
    "duration": 19,
    "start_time": "2021-09-20T21:46:49.849Z"
   },
   {
    "duration": 24,
    "start_time": "2021-09-20T21:46:49.870Z"
   },
   {
    "duration": 52,
    "start_time": "2021-09-20T21:46:49.897Z"
   },
   {
    "duration": 13,
    "start_time": "2021-09-20T21:46:49.951Z"
   },
   {
    "duration": 31,
    "start_time": "2021-09-20T21:46:49.969Z"
   },
   {
    "duration": 41,
    "start_time": "2021-09-20T21:46:50.003Z"
   },
   {
    "duration": 6,
    "start_time": "2021-09-20T21:46:50.048Z"
   },
   {
    "duration": 43,
    "start_time": "2021-09-20T21:46:50.058Z"
   },
   {
    "duration": 37,
    "start_time": "2021-09-20T21:46:50.104Z"
   },
   {
    "duration": 26,
    "start_time": "2021-09-20T21:46:50.143Z"
   },
   {
    "duration": 18,
    "start_time": "2021-09-20T21:46:50.172Z"
   },
   {
    "duration": 41,
    "start_time": "2021-09-20T21:46:50.193Z"
   },
   {
    "duration": 7,
    "start_time": "2021-09-20T21:46:50.236Z"
   },
   {
    "duration": 11,
    "start_time": "2021-09-20T21:46:50.246Z"
   },
   {
    "duration": 6,
    "start_time": "2021-09-20T21:46:50.260Z"
   },
   {
    "duration": 812,
    "start_time": "2021-09-21T10:16:20.181Z"
   },
   {
    "duration": 180,
    "start_time": "2021-09-21T10:16:20.996Z"
   },
   {
    "duration": 37,
    "start_time": "2021-09-21T10:16:21.179Z"
   },
   {
    "duration": 54,
    "start_time": "2021-09-21T10:16:21.219Z"
   },
   {
    "duration": 5,
    "start_time": "2021-09-21T10:16:21.275Z"
   },
   {
    "duration": 40,
    "start_time": "2021-09-21T10:16:21.283Z"
   },
   {
    "duration": 4,
    "start_time": "2021-09-21T10:16:21.325Z"
   },
   {
    "duration": 30,
    "start_time": "2021-09-21T10:16:21.333Z"
   },
   {
    "duration": 53,
    "start_time": "2021-09-21T10:16:21.366Z"
   },
   {
    "duration": 30,
    "start_time": "2021-09-21T10:16:21.422Z"
   },
   {
    "duration": 108,
    "start_time": "2021-09-21T10:16:21.454Z"
   },
   {
    "duration": 109,
    "start_time": "2021-09-21T10:16:21.564Z"
   },
   {
    "duration": 86,
    "start_time": "2021-09-21T10:16:21.675Z"
   },
   {
    "duration": 63,
    "start_time": "2021-09-21T10:16:21.764Z"
   },
   {
    "duration": 5,
    "start_time": "2021-09-21T10:16:21.829Z"
   },
   {
    "duration": 21,
    "start_time": "2021-09-21T10:16:21.836Z"
   },
   {
    "duration": 71,
    "start_time": "2021-09-21T10:16:21.860Z"
   },
   {
    "duration": 15,
    "start_time": "2021-09-21T10:16:21.933Z"
   },
   {
    "duration": 14,
    "start_time": "2021-09-21T10:16:21.951Z"
   },
   {
    "duration": 5,
    "start_time": "2021-09-21T10:16:21.967Z"
   },
   {
    "duration": 56,
    "start_time": "2021-09-21T10:16:21.975Z"
   },
   {
    "duration": 20,
    "start_time": "2021-09-21T10:16:22.034Z"
   },
   {
    "duration": 19,
    "start_time": "2021-09-21T10:16:22.058Z"
   },
   {
    "duration": 51,
    "start_time": "2021-09-21T10:16:22.080Z"
   },
   {
    "duration": 23,
    "start_time": "2021-09-21T10:16:22.134Z"
   },
   {
    "duration": 58,
    "start_time": "2021-09-21T10:16:22.160Z"
   },
   {
    "duration": 13,
    "start_time": "2021-09-21T10:16:22.221Z"
   },
   {
    "duration": 18,
    "start_time": "2021-09-21T10:16:22.237Z"
   },
   {
    "duration": 15,
    "start_time": "2021-09-21T10:16:22.258Z"
   },
   {
    "duration": 7,
    "start_time": "2021-09-21T10:16:22.275Z"
   },
   {
    "duration": 27,
    "start_time": "2021-09-21T10:16:22.317Z"
   },
   {
    "duration": 19,
    "start_time": "2021-09-21T10:16:22.347Z"
   },
   {
    "duration": 63,
    "start_time": "2021-09-21T10:16:22.369Z"
   },
   {
    "duration": 18,
    "start_time": "2021-09-21T10:16:22.435Z"
   },
   {
    "duration": 15,
    "start_time": "2021-09-21T10:16:22.456Z"
   },
   {
    "duration": 5,
    "start_time": "2021-09-21T10:16:22.474Z"
   },
   {
    "duration": 42,
    "start_time": "2021-09-21T10:16:22.481Z"
   },
   {
    "duration": 9,
    "start_time": "2021-09-21T10:16:22.525Z"
   },
   {
    "duration": 90,
    "start_time": "2021-09-21T10:28:31.288Z"
   },
   {
    "duration": 324,
    "start_time": "2021-09-21T15:23:07.116Z"
   },
   {
    "duration": 282,
    "start_time": "2021-09-21T15:23:12.117Z"
   },
   {
    "duration": 560,
    "start_time": "2021-09-21T15:23:17.825Z"
   },
   {
    "duration": 143,
    "start_time": "2021-09-21T15:23:21.263Z"
   },
   {
    "duration": 17,
    "start_time": "2021-09-21T15:23:23.684Z"
   },
   {
    "duration": 172,
    "start_time": "2021-09-21T15:23:27.042Z"
   },
   {
    "duration": 269,
    "start_time": "2021-09-21T15:26:58.086Z"
   },
   {
    "duration": 260,
    "start_time": "2021-09-21T15:39:31.088Z"
   },
   {
    "duration": 5,
    "start_time": "2021-09-21T15:40:06.242Z"
   },
   {
    "duration": 22,
    "start_time": "2021-09-21T15:42:11.848Z"
   },
   {
    "duration": 22,
    "start_time": "2021-09-21T15:42:31.813Z"
   },
   {
    "duration": 303,
    "start_time": "2021-09-21T15:43:32.422Z"
   },
   {
    "duration": 485,
    "start_time": "2021-09-21T15:44:10.805Z"
   },
   {
    "duration": 315,
    "start_time": "2021-09-21T15:44:30.483Z"
   },
   {
    "duration": 7533,
    "start_time": "2021-09-21T15:44:58.974Z"
   },
   {
    "duration": 313,
    "start_time": "2021-09-21T15:45:43.169Z"
   },
   {
    "duration": 3,
    "start_time": "2021-09-21T15:45:48.495Z"
   },
   {
    "duration": 146,
    "start_time": "2021-09-21T15:45:48.501Z"
   },
   {
    "duration": 10,
    "start_time": "2021-09-21T15:45:48.649Z"
   },
   {
    "duration": 182,
    "start_time": "2021-09-21T15:45:48.662Z"
   },
   {
    "duration": 3,
    "start_time": "2021-09-21T15:45:48.846Z"
   },
   {
    "duration": 38,
    "start_time": "2021-09-21T15:45:48.851Z"
   },
   {
    "duration": 3,
    "start_time": "2021-09-21T15:45:48.891Z"
   },
   {
    "duration": 24,
    "start_time": "2021-09-21T15:45:48.896Z"
   },
   {
    "duration": 28,
    "start_time": "2021-09-21T15:45:51.553Z"
   },
   {
    "duration": 110,
    "start_time": "2021-09-21T15:47:50.960Z"
   },
   {
    "duration": 58,
    "start_time": "2021-09-21T15:49:48.208Z"
   },
   {
    "duration": 45,
    "start_time": "2021-09-21T15:50:13.609Z"
   },
   {
    "duration": 92,
    "start_time": "2021-09-21T16:04:05.197Z"
   },
   {
    "duration": 25,
    "start_time": "2021-09-21T16:04:10.308Z"
   },
   {
    "duration": 3,
    "start_time": "2021-09-21T16:04:25.515Z"
   },
   {
    "duration": 166,
    "start_time": "2021-09-21T16:04:25.520Z"
   },
   {
    "duration": 10,
    "start_time": "2021-09-21T16:04:25.688Z"
   },
   {
    "duration": 177,
    "start_time": "2021-09-21T16:04:25.700Z"
   },
   {
    "duration": 3,
    "start_time": "2021-09-21T16:04:25.879Z"
   },
   {
    "duration": 22,
    "start_time": "2021-09-21T16:04:25.884Z"
   },
   {
    "duration": 4,
    "start_time": "2021-09-21T16:04:25.908Z"
   },
   {
    "duration": 27,
    "start_time": "2021-09-21T16:04:25.914Z"
   },
   {
    "duration": 54,
    "start_time": "2021-09-21T16:04:25.943Z"
   },
   {
    "duration": 22,
    "start_time": "2021-09-21T16:04:25.998Z"
   },
   {
    "duration": 77,
    "start_time": "2021-09-21T16:04:26.022Z"
   },
   {
    "duration": 113,
    "start_time": "2021-09-21T16:04:26.101Z"
   },
   {
    "duration": 93,
    "start_time": "2021-09-21T16:04:26.216Z"
   },
   {
    "duration": 72,
    "start_time": "2021-09-21T16:04:26.311Z"
   },
   {
    "duration": 3,
    "start_time": "2021-09-21T16:04:26.385Z"
   },
   {
    "duration": 16,
    "start_time": "2021-09-21T16:04:26.390Z"
   },
   {
    "duration": 75,
    "start_time": "2021-09-21T16:04:26.408Z"
   },
   {
    "duration": 15,
    "start_time": "2021-09-21T16:04:26.485Z"
   },
   {
    "duration": 14,
    "start_time": "2021-09-21T16:04:26.504Z"
   },
   {
    "duration": 4,
    "start_time": "2021-09-21T16:04:26.521Z"
   },
   {
    "duration": 20,
    "start_time": "2021-09-21T16:04:26.527Z"
   },
   {
    "duration": 16,
    "start_time": "2021-09-21T16:04:26.576Z"
   },
   {
    "duration": 18,
    "start_time": "2021-09-21T16:04:26.594Z"
   },
   {
    "duration": 16,
    "start_time": "2021-09-21T16:04:26.613Z"
   },
   {
    "duration": 52,
    "start_time": "2021-09-21T16:04:26.631Z"
   },
   {
    "duration": 16,
    "start_time": "2021-09-21T16:04:26.685Z"
   },
   {
    "duration": 96,
    "start_time": "2021-09-21T16:04:26.703Z"
   },
   {
    "duration": 8,
    "start_time": "2021-09-21T16:04:26.801Z"
   },
   {
    "duration": 11,
    "start_time": "2021-09-21T16:04:26.811Z"
   },
   {
    "duration": 9,
    "start_time": "2021-09-21T16:04:26.824Z"
   },
   {
    "duration": 5,
    "start_time": "2021-09-21T16:04:26.835Z"
   },
   {
    "duration": 54,
    "start_time": "2021-09-21T16:04:26.842Z"
   },
   {
    "duration": 14,
    "start_time": "2021-09-21T16:04:26.898Z"
   },
   {
    "duration": 18,
    "start_time": "2021-09-21T16:04:26.914Z"
   },
   {
    "duration": 12,
    "start_time": "2021-09-21T16:04:26.933Z"
   },
   {
    "duration": 37,
    "start_time": "2021-09-21T16:04:26.947Z"
   },
   {
    "duration": 5,
    "start_time": "2021-09-21T16:04:26.985Z"
   },
   {
    "duration": 9,
    "start_time": "2021-09-21T16:04:26.992Z"
   },
   {
    "duration": 4,
    "start_time": "2021-09-21T16:04:27.003Z"
   },
   {
    "duration": 23,
    "start_time": "2021-09-21T16:04:48.175Z"
   },
   {
    "duration": 85,
    "start_time": "2021-09-21T16:05:16.254Z"
   },
   {
    "duration": 20,
    "start_time": "2021-09-21T16:05:42.813Z"
   },
   {
    "duration": 20,
    "start_time": "2021-09-21T16:06:06.539Z"
   },
   {
    "duration": 21,
    "start_time": "2021-09-21T16:06:31.913Z"
   },
   {
    "duration": 8,
    "start_time": "2021-09-21T16:07:06.530Z"
   },
   {
    "duration": 629,
    "start_time": "2021-09-21T16:08:37.486Z"
   },
   {
    "duration": 144,
    "start_time": "2021-09-21T16:08:38.117Z"
   },
   {
    "duration": 18,
    "start_time": "2021-09-21T16:08:38.263Z"
   },
   {
    "duration": 172,
    "start_time": "2021-09-21T16:08:38.283Z"
   },
   {
    "duration": 4,
    "start_time": "2021-09-21T16:08:38.457Z"
   },
   {
    "duration": 25,
    "start_time": "2021-09-21T16:08:38.463Z"
   },
   {
    "duration": 4,
    "start_time": "2021-09-21T16:08:38.490Z"
   },
   {
    "duration": 30,
    "start_time": "2021-09-21T16:08:38.496Z"
   },
   {
    "duration": 50,
    "start_time": "2021-09-21T16:08:38.529Z"
   },
   {
    "duration": 23,
    "start_time": "2021-09-21T16:08:38.581Z"
   },
   {
    "duration": 71,
    "start_time": "2021-09-21T16:08:38.606Z"
   },
   {
    "duration": 59,
    "start_time": "2021-09-21T16:08:38.680Z"
   },
   {
    "duration": 71,
    "start_time": "2021-09-21T16:08:38.741Z"
   },
   {
    "duration": 44,
    "start_time": "2021-09-21T16:08:38.814Z"
   },
   {
    "duration": 17,
    "start_time": "2021-09-21T16:08:38.860Z"
   },
   {
    "duration": 25,
    "start_time": "2021-09-21T16:08:38.880Z"
   },
   {
    "duration": 69,
    "start_time": "2021-09-21T16:08:38.907Z"
   },
   {
    "duration": 18,
    "start_time": "2021-09-21T16:08:38.979Z"
   },
   {
    "duration": 19,
    "start_time": "2021-09-21T16:08:38.999Z"
   },
   {
    "duration": 5,
    "start_time": "2021-09-21T16:08:39.020Z"
   },
   {
    "duration": 53,
    "start_time": "2021-09-21T16:08:39.027Z"
   },
   {
    "duration": 19,
    "start_time": "2021-09-21T16:08:39.083Z"
   },
   {
    "duration": 15,
    "start_time": "2021-09-21T16:08:39.107Z"
   },
   {
    "duration": 16,
    "start_time": "2021-09-21T16:08:39.125Z"
   },
   {
    "duration": 41,
    "start_time": "2021-09-21T16:08:39.143Z"
   },
   {
    "duration": 15,
    "start_time": "2021-09-21T16:08:39.186Z"
   },
   {
    "duration": 84,
    "start_time": "2021-09-21T16:08:39.203Z"
   },
   {
    "duration": 8,
    "start_time": "2021-09-21T16:08:39.289Z"
   },
   {
    "duration": 20,
    "start_time": "2021-09-21T16:08:39.299Z"
   },
   {
    "duration": 9,
    "start_time": "2021-09-21T16:08:39.321Z"
   },
   {
    "duration": 4,
    "start_time": "2021-09-21T16:08:39.332Z"
   },
   {
    "duration": 43,
    "start_time": "2021-09-21T16:08:39.337Z"
   },
   {
    "duration": 13,
    "start_time": "2021-09-21T16:08:39.382Z"
   },
   {
    "duration": 18,
    "start_time": "2021-09-21T16:08:39.397Z"
   },
   {
    "duration": 16,
    "start_time": "2021-09-21T16:08:39.417Z"
   },
   {
    "duration": 11,
    "start_time": "2021-09-21T16:08:39.434Z"
   },
   {
    "duration": 35,
    "start_time": "2021-09-21T16:08:39.446Z"
   },
   {
    "duration": 10,
    "start_time": "2021-09-21T16:08:39.483Z"
   },
   {
    "duration": 15,
    "start_time": "2021-09-21T16:08:39.495Z"
   },
   {
    "duration": 634,
    "start_time": "2021-09-21T16:19:23.861Z"
   },
   {
    "duration": 141,
    "start_time": "2021-09-21T16:19:24.497Z"
   },
   {
    "duration": 18,
    "start_time": "2021-09-21T16:19:24.640Z"
   },
   {
    "duration": 188,
    "start_time": "2021-09-21T16:19:24.659Z"
   },
   {
    "duration": 4,
    "start_time": "2021-09-21T16:19:24.849Z"
   },
   {
    "duration": 42,
    "start_time": "2021-09-21T16:19:24.854Z"
   },
   {
    "duration": 4,
    "start_time": "2021-09-21T16:19:24.898Z"
   },
   {
    "duration": 24,
    "start_time": "2021-09-21T16:19:24.905Z"
   },
   {
    "duration": 47,
    "start_time": "2021-09-21T16:19:24.932Z"
   },
   {
    "duration": 28,
    "start_time": "2021-09-21T16:19:24.982Z"
   },
   {
    "duration": 70,
    "start_time": "2021-09-21T16:19:25.012Z"
   },
   {
    "duration": 72,
    "start_time": "2021-09-21T16:19:25.085Z"
   },
   {
    "duration": 71,
    "start_time": "2021-09-21T16:19:25.160Z"
   },
   {
    "duration": 54,
    "start_time": "2021-09-21T16:19:25.233Z"
   },
   {
    "duration": 4,
    "start_time": "2021-09-21T16:19:25.291Z"
   },
   {
    "duration": 13,
    "start_time": "2021-09-21T16:19:25.297Z"
   },
   {
    "duration": 43,
    "start_time": "2021-09-21T16:19:25.312Z"
   },
   {
    "duration": 35,
    "start_time": "2021-09-21T16:19:25.357Z"
   },
   {
    "duration": 12,
    "start_time": "2021-09-21T16:19:25.395Z"
   },
   {
    "duration": 3,
    "start_time": "2021-09-21T16:19:25.408Z"
   },
   {
    "duration": 19,
    "start_time": "2021-09-21T16:19:25.413Z"
   },
   {
    "duration": 43,
    "start_time": "2021-09-21T16:19:25.434Z"
   },
   {
    "duration": 19,
    "start_time": "2021-09-21T16:19:25.482Z"
   },
   {
    "duration": 14,
    "start_time": "2021-09-21T16:19:25.503Z"
   },
   {
    "duration": 17,
    "start_time": "2021-09-21T16:19:25.518Z"
   },
   {
    "duration": 45,
    "start_time": "2021-09-21T16:19:25.536Z"
   },
   {
    "duration": 70,
    "start_time": "2021-09-21T16:19:25.584Z"
   },
   {
    "duration": 29,
    "start_time": "2021-09-21T16:19:25.656Z"
   },
   {
    "duration": 31,
    "start_time": "2021-09-21T16:19:25.688Z"
   },
   {
    "duration": 9,
    "start_time": "2021-09-21T16:19:25.721Z"
   },
   {
    "duration": 5,
    "start_time": "2021-09-21T16:19:25.732Z"
   },
   {
    "duration": 31,
    "start_time": "2021-09-21T16:19:25.739Z"
   },
   {
    "duration": 24,
    "start_time": "2021-09-21T16:19:25.772Z"
   },
   {
    "duration": 19,
    "start_time": "2021-09-21T16:19:25.798Z"
   },
   {
    "duration": 15,
    "start_time": "2021-09-21T16:19:25.819Z"
   },
   {
    "duration": 44,
    "start_time": "2021-09-21T16:19:25.836Z"
   },
   {
    "duration": 8,
    "start_time": "2021-09-21T16:19:25.886Z"
   },
   {
    "duration": 8,
    "start_time": "2021-09-21T16:19:25.895Z"
   },
   {
    "duration": 14,
    "start_time": "2021-09-21T16:19:25.904Z"
   }
  ],
  "colab": {
   "collapsed_sections": [
    "E0vqbgi9ay0H",
    "VUC88oWjTJw2"
   ],
   "name": "yandex_music_project_2021.2.ipynb",
   "provenance": []
  },
  "kernelspec": {
   "display_name": "Python 3 (ipykernel)",
   "language": "python",
   "name": "python3"
  },
  "language_info": {
   "codemirror_mode": {
    "name": "ipython",
    "version": 3
   },
   "file_extension": ".py",
   "mimetype": "text/x-python",
   "name": "python",
   "nbconvert_exporter": "python",
   "pygments_lexer": "ipython3",
   "version": "3.9.12"
  },
  "toc": {
   "base_numbering": 1,
   "nav_menu": {},
   "number_sections": true,
   "sideBar": true,
   "skip_h1_title": true,
   "title_cell": "Table of Contents",
   "title_sidebar": "Contents",
   "toc_cell": false,
   "toc_position": {
    "height": "calc(100% - 180px)",
    "left": "10px",
    "top": "150px",
    "width": "165px"
   },
   "toc_section_display": true,
   "toc_window_display": true
  }
 },
 "nbformat": 4,
 "nbformat_minor": 1
}
